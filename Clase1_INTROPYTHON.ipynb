{
 "cells": [
  {
   "cell_type": "markdown",
   "id": "8fc7039f",
   "metadata": {},
   "source": [
    "# Esta es una celda Markdown es decir se escribe en texto "
   ]
  },
  {
   "cell_type": "code",
   "execution_count": 1,
   "id": "48017d33",
   "metadata": {},
   "outputs": [
    {
     "data": {
      "text/plain": [
       "35"
      ]
     },
     "execution_count": 1,
     "metadata": {},
     "output_type": "execute_result"
    }
   ],
   "source": [
    "x = 5 \n",
    "y = 7\n",
    "x * y"
   ]
  },
  {
   "cell_type": "code",
   "execution_count": null,
   "id": "c3433b8e",
   "metadata": {},
   "outputs": [],
   "source": [
    "Otra celda de texto "
   ]
  },
  {
   "cell_type": "markdown",
   "id": "9eac5826",
   "metadata": {},
   "source": [
    "### <center><h2> INGENIERÍA EN BIOTECNOLOGÍA</h2></center>\n",
    "# <center><h1 style=\"color:green\">GBI6 - BIOINFORMÁTICA</h1></center>\n",
    "\n",
    "\n",
    "<img src=\"https://www.ikiam.edu.ec/img/logo-ikiam-grey.png\" width=400 height=300 />\n",
    "\n",
    "# INTRODUCCIÓN A LA PROGRAMACIÓN EN PYTHON\n",
    "\n",
    "## ¿Por qué programar?\n",
    "\n",
    "Se tiene muchos programas disponibles que se pueden usar para hacer procesamiento directo. Sin embargo, casi ningún software dsiponible tiene todo lo requerido para realizar exactamente los análisis que se requiere en los proyectos de ciencias, en nuestro caso en `Bioinformática`. \n",
    "\n",
    "Saber programar permite escribir las instrucciones que son necesarios para solucionar algún requerimiento de procesamiento (*software propio*)."
   ]
  },
  {
   "cell_type": "markdown",
   "id": "6c249f37",
   "metadata": {},
   "source": [
    "Otra celda de texto \n",
    "A continuación vamos a demostrar cómo se realiza una multiplicación utilizando las variables: \n",
    "\n",
    "1. *x* \n",
    "\n",
    "2. y\n",
    "\n",
    "3. z\n",
    "\n",
    "El producto se nota como $z = x_{1}*y_{1}^{x+y}$. \n",
    "\n",
    "Los términos se conocen como `multiplicandos`."
   ]
  },
  {
   "cell_type": "code",
   "execution_count": 1,
   "id": "26f6391b",
   "metadata": {},
   "outputs": [],
   "source": [
    "seq1= \"ATCGCGTAGTCGATGACGTAGCGAGCTG\""
   ]
  },
  {
   "cell_type": "code",
   "execution_count": 4,
   "id": "77d4f990",
   "metadata": {},
   "outputs": [
    {
     "data": {
      "text/plain": [
       "5"
      ]
     },
     "execution_count": 4,
     "metadata": {},
     "output_type": "execute_result"
    }
   ],
   "source": [
    "seq1.count(\"CG\")"
   ]
  },
  {
   "cell_type": "code",
   "execution_count": 5,
   "id": "6cf1260a",
   "metadata": {},
   "outputs": [
    {
     "data": {
      "text/plain": [
       "'ATCGCGTAGT'"
      ]
     },
     "execution_count": 5,
     "metadata": {},
     "output_type": "execute_result"
    }
   ],
   "source": [
    "seq1[0:10]"
   ]
  },
  {
   "cell_type": "code",
   "execution_count": 6,
   "id": "8fbd2f07",
   "metadata": {},
   "outputs": [
    {
     "ename": "NameError",
     "evalue": "name 'end' is not defined",
     "output_type": "error",
     "traceback": [
      "\u001b[1;31m---------------------------------------------------------------------------\u001b[0m",
      "\u001b[1;31mNameError\u001b[0m                                 Traceback (most recent call last)",
      "Input \u001b[1;32mIn [6]\u001b[0m, in \u001b[0;36m<cell line: 2>\u001b[1;34m()\u001b[0m\n\u001b[0;32m      1\u001b[0m start\u001b[38;5;241m=\u001b[39m\u001b[38;5;241m0\u001b[39m\n\u001b[1;32m----> 2\u001b[0m \u001b[43mend\u001b[49m\n\u001b[0;32m      3\u001b[0m seq1[start:end\u001b[38;5;241m+\u001b[39m\u001b[38;5;241m1\u001b[39m]\n",
      "\u001b[1;31mNameError\u001b[0m: name 'end' is not defined"
     ]
    }
   ],
   "source": [
    "start=0\n",
    "end= \n",
    "seq1[start:end+1]"
   ]
  },
  {
   "cell_type": "code",
   "execution_count": 10,
   "id": "0071fc88",
   "metadata": {},
   "outputs": [
    {
     "data": {
      "text/plain": [
       "'atcgcgtagtcgatgacgtagcgagctg'"
      ]
     },
     "execution_count": 10,
     "metadata": {},
     "output_type": "execute_result"
    }
   ],
   "source": [
    "seq1.lower()"
   ]
  },
  {
   "cell_type": "code",
   "execution_count": 11,
   "id": "e3cd1260",
   "metadata": {},
   "outputs": [
    {
     "data": {
      "text/plain": [
       "'ATCGCGTAGTCGATGACGTAGCGAGCTG'"
      ]
     },
     "execution_count": 11,
     "metadata": {},
     "output_type": "execute_result"
    }
   ],
   "source": [
    "seq1.upper()"
   ]
  },
  {
   "cell_type": "code",
   "execution_count": 12,
   "id": "3fb62aff",
   "metadata": {},
   "outputs": [
    {
     "data": {
      "text/plain": [
       "'AUCGCGUAGUCGAUGACGUAGCGAGCUG'"
      ]
     },
     "execution_count": 12,
     "metadata": {},
     "output_type": "execute_result"
    }
   ],
   "source": [
    "seq1.replace(\"T\", \"U\")"
   ]
  },
  {
   "cell_type": "code",
   "execution_count": 13,
   "id": "f31d1c31",
   "metadata": {},
   "outputs": [
    {
     "data": {
      "text/plain": [
       "28"
      ]
     },
     "execution_count": 13,
     "metadata": {},
     "output_type": "execute_result"
    }
   ],
   "source": [
    "len(seq1)"
   ]
  },
  {
   "cell_type": "code",
   "execution_count": 20,
   "id": "eed55f2b",
   "metadata": {},
   "outputs": [],
   "source": [
    "nuc_A= seq1.count(\"A\")\n",
    "nuc_T= seq1.count(\"T\")\n",
    "nuc_C= seq1.count(\"C\")\n",
    "nuc_G= seq1.count(\"G\")\n",
    "len_seq1= len(seq1)\n",
    "percent_GC= 100*(nuc_A +nuc_C)/len_seq1"
   ]
  },
  {
   "cell_type": "code",
   "execution_count": 22,
   "id": "fc57f52c",
   "metadata": {},
   "outputs": [],
   "source": [
    "seq2=\"AAGGACCNGACATCCATCGCTGATGTCAATCCCCCGTGGATCGTAAGTCCGGGAGTAGGAGGAGGAAGGGTCGTCCCACAGTGCGAAGAGGCTTCTGACCTACTGACGGTACCTCCTCAGTGTCAGCCTATAGTCGGAGCTCGAGGGAGACTCGGTCCTCTGTAAAAGTCCGAATACCTTTGATGAAGGAGGTCTTCTATAGGACGGTAG\""
   ]
  },
  {
   "cell_type": "code",
   "execution_count": null,
   "id": "9034bfda",
   "metadata": {},
   "outputs": [],
   "source": [
    "seq1_temp= seq1.replace(\"A\",\"t\")\n",
    "seq1_temp= seq1_temp.replace(\"T\",\"a\")\n",
    "seq1_temp= seq1_temp.replace(\"G\",\"a\")\n",
    "\n"
   ]
  }
 ],
 "metadata": {
  "kernelspec": {
   "display_name": "Python 3 (ipykernel)",
   "language": "python",
   "name": "python3"
  },
  "language_info": {
   "codemirror_mode": {
    "name": "ipython",
    "version": 3
   },
   "file_extension": ".py",
   "mimetype": "text/x-python",
   "name": "python",
   "nbconvert_exporter": "python",
   "pygments_lexer": "ipython3",
   "version": "3.9.12"
  }
 },
 "nbformat": 4,
 "nbformat_minor": 5
}
