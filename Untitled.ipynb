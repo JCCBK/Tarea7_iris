{
 "cells": [
  {
   "cell_type": "code",
   "execution_count": 38,
   "id": "5897fa40",
   "metadata": {},
   "outputs": [
    {
     "data": {
      "text/plain": [
       "13"
      ]
     },
     "execution_count": 38,
     "metadata": {},
     "output_type": "execute_result"
    }
   ],
   "source": [
    "s= \"a long string\"\n",
    "s\n",
    "len (s)"
   ]
  },
  {
   "cell_type": "code",
   "execution_count": 39,
   "id": "1dd58b4f",
   "metadata": {},
   "outputs": [
    {
     "data": {
      "text/plain": [
       "729"
      ]
     },
     "execution_count": 39,
     "metadata": {},
     "output_type": "execute_result"
    }
   ],
   "source": [
    "pow(3,6)"
   ]
  },
  {
   "cell_type": "code",
   "execution_count": 40,
   "id": "bbc7c016",
   "metadata": {},
   "outputs": [
    {
     "name": "stdout",
     "output_type": "stream",
     "text": [
      "a long string\n"
     ]
    }
   ],
   "source": [
    "print (s)"
   ]
  },
  {
   "cell_type": "code",
   "execution_count": 41,
   "id": "193c6ffc",
   "metadata": {},
   "outputs": [
    {
     "data": {
      "text/plain": [
       "3.12"
      ]
     },
     "execution_count": 41,
     "metadata": {},
     "output_type": "execute_result"
    }
   ],
   "source": [
    "round (3.12456778855, 2)"
   ]
  },
  {
   "cell_type": "code",
   "execution_count": 43,
   "id": "789a0211",
   "metadata": {},
   "outputs": [
    {
     "name": "stdout",
     "output_type": "stream",
     "text": [
      "Help on built-in function round in module builtins:\n",
      "\n",
      "round(number, ndigits=None)\n",
      "    Round a number to a given precision in decimal digits.\n",
      "    \n",
      "    The return value is an integer if ndigits is omitted or None.  Otherwise\n",
      "    the return value has the same type as the number.  ndigits may be negative.\n",
      "\n"
     ]
    }
   ],
   "source": [
    "help (round)\n"
   ]
  },
  {
   "cell_type": "code",
   "execution_count": 44,
   "id": "b1328139",
   "metadata": {},
   "outputs": [],
   "source": [
    "astring = \"ATGCATG\""
   ]
  },
  {
   "cell_type": "code",
   "execution_count": 45,
   "id": "ed5c6b4f",
   "metadata": {},
   "outputs": [
    {
     "data": {
      "text/plain": [
       "7"
      ]
     },
     "execution_count": 45,
     "metadata": {},
     "output_type": "execute_result"
    }
   ],
   "source": [
    "len (astring)"
   ]
  },
  {
   "cell_type": "code",
   "execution_count": 46,
   "id": "5bb48558",
   "metadata": {},
   "outputs": [
    {
     "data": {
      "text/plain": [
       "'ATGCATG'"
      ]
     },
     "execution_count": 46,
     "metadata": {},
     "output_type": "execute_result"
    }
   ],
   "source": [
    "astring\n"
   ]
  },
  {
   "cell_type": "code",
   "execution_count": 47,
   "id": "26dc92ea",
   "metadata": {},
   "outputs": [
    {
     "name": "stdout",
     "output_type": "stream",
     "text": [
      "Help on built-in function find:\n",
      "\n",
      "find(...) method of builtins.str instance\n",
      "    S.find(sub[, start[, end]]) -> int\n",
      "    \n",
      "    Return the lowest index in S where substring sub is found,\n",
      "    such that sub is contained within S[start:end].  Optional\n",
      "    arguments start and end are interpreted as in slice notation.\n",
      "    \n",
      "    Return -1 on failure.\n",
      "\n"
     ]
    }
   ],
   "source": [
    "help(astring.find)"
   ]
  },
  {
   "cell_type": "code",
   "execution_count": 48,
   "id": "6d2a612d",
   "metadata": {},
   "outputs": [
    {
     "data": {
      "text/plain": [
       "'AUGCAUG'"
      ]
     },
     "execution_count": 48,
     "metadata": {},
     "output_type": "execute_result"
    }
   ],
   "source": [
    "astring.replace(\"T\", \"U\") # replace remplaza\n"
   ]
  },
  {
   "cell_type": "code",
   "execution_count": 49,
   "id": "d01801f4",
   "metadata": {},
   "outputs": [
    {
     "data": {
      "text/plain": [
       "3"
      ]
     },
     "execution_count": 49,
     "metadata": {},
     "output_type": "execute_result"
    }
   ],
   "source": [
    "astring.find(\"C\") # find ecuentra el lugar donde esta lo que busco "
   ]
  },
  {
   "cell_type": "code",
   "execution_count": 50,
   "id": "bc64d6d9",
   "metadata": {},
   "outputs": [
    {
     "data": {
      "text/plain": [
       "2"
      ]
     },
     "execution_count": 50,
     "metadata": {},
     "output_type": "execute_result"
    }
   ],
   "source": [
    "astring.count(\"G\") # cuenta "
   ]
  },
  {
   "cell_type": "code",
   "execution_count": 51,
   "id": "ac369304",
   "metadata": {},
   "outputs": [],
   "source": [
    "newstring = \"Mus Musculus\""
   ]
  },
  {
   "cell_type": "code",
   "execution_count": 52,
   "id": "8c2e9960",
   "metadata": {},
   "outputs": [
    {
     "data": {
      "text/plain": [
       "['Mus', 'Musculus']"
      ]
     },
     "execution_count": 52,
     "metadata": {},
     "output_type": "execute_result"
    }
   ],
   "source": [
    "newstring.split() # es una forma de separar por comas la informacion que tienes o las letras "
   ]
  },
  {
   "cell_type": "code",
   "execution_count": 59,
   "id": "405386d1",
   "metadata": {},
   "outputs": [
    {
     "data": {
      "text/plain": [
       "['Mus Musculus']"
      ]
     },
     "execution_count": 59,
     "metadata": {},
     "output_type": "execute_result"
    }
   ],
   "source": [
    "newstring.split(\"m\")"
   ]
  },
  {
   "cell_type": "code",
   "execution_count": 60,
   "id": "7f92d700",
   "metadata": {},
   "outputs": [
    {
     "data": {
      "text/plain": [
       "'ATGC'"
      ]
     },
     "execution_count": 60,
     "metadata": {},
     "output_type": "execute_result"
    }
   ],
   "source": [
    "\"atgc\".upper() #cambia a mayusculas las minusculas"
   ]
  },
  {
   "cell_type": "code",
   "execution_count": 73,
   "id": "c9cf6e28",
   "metadata": {},
   "outputs": [
    {
     "ename": "TypeError",
     "evalue": "str.lower() takes no arguments (1 given)",
     "output_type": "error",
     "traceback": [
      "\u001b[1;31m---------------------------------------------------------------------------\u001b[0m",
      "\u001b[1;31mTypeError\u001b[0m                                 Traceback (most recent call last)",
      "Input \u001b[1;32mIn [73]\u001b[0m, in \u001b[0;36m<cell line: 2>\u001b[1;34m()\u001b[0m\n\u001b[0;32m      1\u001b[0m F\u001b[38;5;241m=\u001b[39m \u001b[38;5;241m13\u001b[39m\n\u001b[1;32m----> 2\u001b[0m \u001b[38;5;124;43m\"\u001b[39;49m\u001b[38;5;124;43mQWERT\u001b[39;49m\u001b[38;5;124;43m\"\u001b[39;49m\u001b[38;5;241;43m.\u001b[39;49m\u001b[43mlower\u001b[49m\u001b[43m(\u001b[49m\u001b[43mF\u001b[49m\u001b[43m)\u001b[49m\n",
      "\u001b[1;31mTypeError\u001b[0m: str.lower() takes no arguments (1 given)"
     ]
    }
   ],
   "source": [
    "F= 13\n",
    "\"QWERT\".lower(F) # cambia  mayusculas a minusculas"
   ]
  },
  {
   "cell_type": "code",
   "execution_count": 64,
   "id": "684d584b",
   "metadata": {},
   "outputs": [],
   "source": [
    "genus= \"Rattus\"\n",
    "species= \"norvegicus\"\n"
   ]
  },
  {
   "cell_type": "code",
   "execution_count": 66,
   "id": "45f68477",
   "metadata": {},
   "outputs": [
    {
     "data": {
      "text/plain": [
       "'Rattus norvegicus'"
      ]
     },
     "execution_count": 66,
     "metadata": {},
     "output_type": "execute_result"
    }
   ],
   "source": [
    "genus + \" \" + species # suma toma en cuenta los espacios "
   ]
  },
  {
   "cell_type": "code",
   "execution_count": 70,
   "id": "95ea3421",
   "metadata": {},
   "outputs": [
    {
     "data": {
      "text/plain": [
       "'Homo sapiens'"
      ]
     },
     "execution_count": 70,
     "metadata": {},
     "output_type": "execute_result"
    }
   ],
   "source": [
    "human = [\"Homo\", \"sapiens\"] # \n",
    "\" \".join(human)\n"
   ]
  },
  {
   "cell_type": "code",
   "execution_count": 74,
   "id": "a2279d17",
   "metadata": {},
   "outputs": [
    {
     "data": {
      "text/plain": [
       "'a long string'"
      ]
     },
     "execution_count": 74,
     "metadata": {},
     "output_type": "execute_result"
    }
   ],
   "source": [
    "s"
   ]
  },
  {
   "cell_type": "code",
   "execution_count": 75,
   "id": "2da8b476",
   "metadata": {},
   "outputs": [],
   "source": [
    "s= \"AGTC\""
   ]
  },
  {
   "cell_type": "code",
   "execution_count": 76,
   "id": "abaf0271",
   "metadata": {},
   "outputs": [
    {
     "name": "stdout",
     "output_type": "stream",
     "text": [
      "AGTC\n"
     ]
    }
   ],
   "source": [
    "print(s)"
   ]
  },
  {
   "cell_type": "code",
   "execution_count": 77,
   "id": "ab4ea9f8",
   "metadata": {},
   "outputs": [
    {
     "ename": "AttributeError",
     "evalue": "'str' object has no attribute 'print'",
     "output_type": "error",
     "traceback": [
      "\u001b[1;31m---------------------------------------------------------------------------\u001b[0m",
      "\u001b[1;31mAttributeError\u001b[0m                            Traceback (most recent call last)",
      "Input \u001b[1;32mIn [77]\u001b[0m, in \u001b[0;36m<cell line: 1>\u001b[1;34m()\u001b[0m\n\u001b[1;32m----> 1\u001b[0m \u001b[43ms\u001b[49m\u001b[38;5;241;43m.\u001b[39;49m\u001b[43mprint\u001b[49m(\u001b[38;5;241m5\u001b[39m)\n",
      "\u001b[1;31mAttributeError\u001b[0m: 'str' object has no attribute 'print'"
     ]
    }
   ],
   "source": [
    "s.print(5)"
   ]
  },
  {
   "cell_type": "code",
   "execution_count": 78,
   "id": "e891cbf2",
   "metadata": {},
   "outputs": [],
   "source": [
    "s = \"WHEN on board H.M.S. Beagle, as naturalist\""
   ]
  },
  {
   "cell_type": "code",
   "execution_count": 85,
   "id": "5296648e",
   "metadata": {},
   "outputs": [
    {
     "data": {
      "text/plain": [
       "0"
      ]
     },
     "execution_count": 85,
     "metadata": {},
     "output_type": "execute_result"
    }
   ],
   "source": [
    "s.count(\"b´s\")"
   ]
  },
  {
   "cell_type": "code",
   "execution_count": 86,
   "id": "b22e8ee9",
   "metadata": {},
   "outputs": [
    {
     "data": {
      "text/plain": [
       "'WHEN on jamaica H.M.S. Beagle, as naturalist'"
      ]
     },
     "execution_count": 86,
     "metadata": {},
     "output_type": "execute_result"
    }
   ],
   "source": [
    "s.replace(\"board\", \"jamaica\")"
   ]
  },
  {
   "cell_type": "code",
   "execution_count": 90,
   "id": "6a039919",
   "metadata": {},
   "outputs": [],
   "source": [
    "new_list = [\"carrera\", 67, \"morodo\", 79 ]"
   ]
  },
  {
   "cell_type": "code",
   "execution_count": 88,
   "id": "108a313f",
   "metadata": {},
   "outputs": [
    {
     "data": {
      "text/plain": [
       "['carrera', 67, 'morodo', 79]"
      ]
     },
     "execution_count": 88,
     "metadata": {},
     "output_type": "execute_result"
    }
   ],
   "source": [
    "new_list"
   ]
  },
  {
   "cell_type": "code",
   "execution_count": 91,
   "id": "a85c8d58",
   "metadata": {},
   "outputs": [],
   "source": [
    "my_list = [3, 2.44, \"green\", True]"
   ]
  },
  {
   "cell_type": "code",
   "execution_count": 92,
   "id": "47c64905",
   "metadata": {},
   "outputs": [
    {
     "data": {
      "text/plain": [
       "[3, 2.44, 'green', True]"
      ]
     },
     "execution_count": 92,
     "metadata": {},
     "output_type": "execute_result"
    }
   ],
   "source": [
    "my_list"
   ]
  },
  {
   "cell_type": "code",
   "execution_count": 96,
   "id": "be7cc33c",
   "metadata": {},
   "outputs": [
    {
     "ename": "AttributeError",
     "evalue": "'list' object has no attribute 'replace'",
     "output_type": "error",
     "traceback": [
      "\u001b[1;31m---------------------------------------------------------------------------\u001b[0m",
      "\u001b[1;31mAttributeError\u001b[0m                            Traceback (most recent call last)",
      "Input \u001b[1;32mIn [96]\u001b[0m, in \u001b[0;36m<cell line: 1>\u001b[1;34m()\u001b[0m\n\u001b[1;32m----> 1\u001b[0m \u001b[43mmy_list\u001b[49m\u001b[38;5;241;43m.\u001b[39;49m\u001b[43mreplace\u001b[49m(\u001b[38;5;124m\"\u001b[39m\u001b[38;5;124mgreen\u001b[39m\u001b[38;5;124m\"\u001b[39m,\u001b[38;5;124m\"\u001b[39m\u001b[38;5;124mred\u001b[39m\u001b[38;5;124m\"\u001b[39m)\n",
      "\u001b[1;31mAttributeError\u001b[0m: 'list' object has no attribute 'replace'"
     ]
    }
   ],
   "source": [
    "my_list.replace(\"green\",\"red\")"
   ]
  },
  {
   "cell_type": "code",
   "execution_count": 97,
   "id": "cd3950d8",
   "metadata": {},
   "outputs": [],
   "source": [
    "a = list(\"0123456789\") # enlista algo que no esta como lista "
   ]
  },
  {
   "cell_type": "code",
   "execution_count": 98,
   "id": "95f04c1c",
   "metadata": {},
   "outputs": [
    {
     "data": {
      "text/plain": [
       "['0', '1', '2', '3', '4', '5', '6', '7', '8', '9']"
      ]
     },
     "execution_count": 98,
     "metadata": {},
     "output_type": "execute_result"
    }
   ],
   "source": [
    "a"
   ]
  },
  {
   "cell_type": "code",
   "execution_count": 99,
   "id": "a4129d45",
   "metadata": {},
   "outputs": [],
   "source": [
    "my_list = [3, 2.44, \"green\", True]"
   ]
  },
  {
   "cell_type": "code",
   "execution_count": 103,
   "id": "fdbff94a",
   "metadata": {},
   "outputs": [
    {
     "data": {
      "text/plain": [
       "'green'"
      ]
     },
     "execution_count": 103,
     "metadata": {},
     "output_type": "execute_result"
    }
   ],
   "source": [
    "my_list[2] # escojo un elemento de mi conjunto de datos \n"
   ]
  },
  {
   "cell_type": "code",
   "execution_count": 104,
   "id": "d5042e3c",
   "metadata": {},
   "outputs": [
    {
     "data": {
      "text/plain": [
       "79"
      ]
     },
     "execution_count": 104,
     "metadata": {},
     "output_type": "execute_result"
    }
   ],
   "source": [
    "new_list[3]"
   ]
  },
  {
   "cell_type": "code",
   "execution_count": 107,
   "id": "50ba9c92",
   "metadata": {},
   "outputs": [
    {
     "data": {
      "text/plain": [
       "[3]"
      ]
     },
     "execution_count": 107,
     "metadata": {},
     "output_type": "execute_result"
    }
   ],
   "source": [
    "my_list[0:1]"
   ]
  },
  {
   "cell_type": "code",
   "execution_count": 108,
   "id": "8c447429",
   "metadata": {},
   "outputs": [
    {
     "data": {
      "text/plain": [
       "[3, 2.44, 'green', True]"
      ]
     },
     "execution_count": 108,
     "metadata": {},
     "output_type": "execute_result"
    }
   ],
   "source": [
    "my_list"
   ]
  },
  {
   "cell_type": "code",
   "execution_count": 111,
   "id": "d69298bd",
   "metadata": {},
   "outputs": [
    {
     "data": {
      "text/plain": [
       "[3, 2.44, 'green', True]"
      ]
     },
     "execution_count": 111,
     "metadata": {},
     "output_type": "execute_result"
    }
   ],
   "source": [
    "my_list[0:4] # les cuenta como numeros ya no como cuando traes elementos que cuenta desde 0"
   ]
  },
  {
   "cell_type": "code",
   "execution_count": 112,
   "id": "f7d25d20",
   "metadata": {},
   "outputs": [
    {
     "data": {
      "text/plain": [
       "[3, 2.44, 'green', True]"
      ]
     },
     "execution_count": 112,
     "metadata": {},
     "output_type": "execute_result"
    }
   ],
   "source": [
    "my_list[:] # se incluyen todos los elementos de la lista"
   ]
  },
  {
   "cell_type": "code",
   "execution_count": 113,
   "id": "3d00496c",
   "metadata": {},
   "outputs": [
    {
     "data": {
      "text/plain": [
       "[3, 2.44, 'green']"
      ]
     },
     "execution_count": 113,
     "metadata": {},
     "output_type": "execute_result"
    }
   ],
   "source": [
    "my_list[:3] # :3 ESCOJE A LOS elementos desde el inicio depemdiendo de la especificacion del numero"
   ]
  },
  {
   "cell_type": "code",
   "execution_count": 114,
   "id": "91537153",
   "metadata": {},
   "outputs": [
    {
     "data": {
      "text/plain": [
       "[True]"
      ]
     },
     "execution_count": 114,
     "metadata": {},
     "output_type": "execute_result"
    }
   ],
   "source": [
    "my_list[3:] # delimita a tomar los elementos despues del numero mencionado "
   ]
  },
  {
   "cell_type": "code",
   "execution_count": 115,
   "id": "05eabc20",
   "metadata": {},
   "outputs": [
    {
     "data": {
      "text/plain": [
       "'green'"
      ]
     },
     "execution_count": 115,
     "metadata": {},
     "output_type": "execute_result"
    }
   ],
   "source": [
    "my_list[-2]"
   ]
  },
  {
   "cell_type": "code",
   "execution_count": 117,
   "id": "5425047b",
   "metadata": {},
   "outputs": [],
   "source": [
    "my_list.append(\"red\")# append agraga elementos a mi variable o mi conjunto de datos "
   ]
  },
  {
   "cell_type": "code",
   "execution_count": 118,
   "id": "682cf581",
   "metadata": {},
   "outputs": [
    {
     "data": {
      "text/plain": [
       "[3, 2.44, 'green', True, 'red']"
      ]
     },
     "execution_count": 118,
     "metadata": {},
     "output_type": "execute_result"
    }
   ],
   "source": [
    "my_list "
   ]
  },
  {
   "cell_type": "code",
   "execution_count": 119,
   "id": "8d98a1a8",
   "metadata": {},
   "outputs": [],
   "source": [
    "my_list.append(\"6789\")"
   ]
  },
  {
   "cell_type": "code",
   "execution_count": 120,
   "id": "1d0bb46b",
   "metadata": {},
   "outputs": [
    {
     "data": {
      "text/plain": [
       "[3, 2.44, 'green', True, 'red', '6789']"
      ]
     },
     "execution_count": 120,
     "metadata": {},
     "output_type": "execute_result"
    }
   ],
   "source": [
    "my_list\n"
   ]
  },
  {
   "cell_type": "code",
   "execution_count": 121,
   "id": "cb4fe915",
   "metadata": {},
   "outputs": [],
   "source": [
    "my_list.append(\"1\")"
   ]
  },
  {
   "cell_type": "code",
   "execution_count": 122,
   "id": "74aa7c8f",
   "metadata": {},
   "outputs": [
    {
     "data": {
      "text/plain": [
       "[3, 2.44, 'green', True, 'red', '6789', '1']"
      ]
     },
     "execution_count": 122,
     "metadata": {},
     "output_type": "execute_result"
    }
   ],
   "source": [
    "my_list"
   ]
  },
  {
   "cell_type": "code",
   "execution_count": 123,
   "id": "6435f69b",
   "metadata": {},
   "outputs": [],
   "source": [
    "new_list= my_list.copy()"
   ]
  },
  {
   "cell_type": "code",
   "execution_count": 124,
   "id": "5a37013d",
   "metadata": {},
   "outputs": [
    {
     "data": {
      "text/plain": [
       "[3, 2.44, 'green', True, 'red', '6789', '1']"
      ]
     },
     "execution_count": 124,
     "metadata": {},
     "output_type": "execute_result"
    }
   ],
   "source": [
    "new_list"
   ]
  },
  {
   "cell_type": "code",
   "execution_count": 126,
   "id": "f8a06995",
   "metadata": {},
   "outputs": [
    {
     "data": {
      "text/plain": [
       "[]"
      ]
     },
     "execution_count": 126,
     "metadata": {},
     "output_type": "execute_result"
    }
   ],
   "source": [
    "my_list.clear()\n",
    "my_list"
   ]
  },
  {
   "cell_type": "code",
   "execution_count": 127,
   "id": "4b267205",
   "metadata": {},
   "outputs": [
    {
     "data": {
      "text/plain": [
       "[3, 2.44, 'green', True, 'red', '6789', '1']"
      ]
     },
     "execution_count": 127,
     "metadata": {},
     "output_type": "execute_result"
    }
   ],
   "source": [
    "new_list"
   ]
  },
  {
   "cell_type": "code",
   "execution_count": 128,
   "id": "55096966",
   "metadata": {},
   "outputs": [],
   "source": [
    "new_list.clear()"
   ]
  },
  {
   "cell_type": "code",
   "execution_count": 129,
   "id": "eae3eef6",
   "metadata": {},
   "outputs": [
    {
     "data": {
      "text/plain": [
       "[]"
      ]
     },
     "execution_count": 129,
     "metadata": {},
     "output_type": "execute_result"
    }
   ],
   "source": [
    "new_list"
   ]
  },
  {
   "cell_type": "code",
   "execution_count": 136,
   "id": "85060b49",
   "metadata": {},
   "outputs": [
    {
     "ename": "SyntaxError",
     "evalue": "invalid syntax (379262206.py, line 2)",
     "output_type": "error",
     "traceback": [
      "\u001b[1;36m  Input \u001b[1;32mIn [136]\u001b[1;36m\u001b[0m\n\u001b[1;33m    seq.count(\"A\") seq.count(\"T\")\u001b[0m\n\u001b[1;37m                   ^\u001b[0m\n\u001b[1;31mSyntaxError\u001b[0m\u001b[1;31m:\u001b[0m invalid syntax\n"
     ]
    }
   ],
   "source": [
    "seq = list(\"TKAAVVNFT\")\n",
    "seq.count(\"A\") "
   ]
  },
  {
   "cell_type": "code",
   "execution_count": 137,
   "id": "45e65ecc",
   "metadata": {},
   "outputs": [
    {
     "data": {
      "text/plain": [
       "2"
      ]
     },
     "execution_count": 137,
     "metadata": {},
     "output_type": "execute_result"
    }
   ],
   "source": [
    "seq.count(\"T\") # .count() me cuenta lo que le pido que cuente "
   ]
  },
  {
   "cell_type": "code",
   "execution_count": 138,
   "id": "e39b6eef",
   "metadata": {},
   "outputs": [
    {
     "data": {
      "text/plain": [
       "4"
      ]
     },
     "execution_count": 138,
     "metadata": {},
     "output_type": "execute_result"
    }
   ],
   "source": [
    "seq.index(\"V\") #  index() me da el lugar de aparicion del elemento a buscar "
   ]
  },
  {
   "cell_type": "code",
   "execution_count": 139,
   "id": "a2c03853",
   "metadata": {},
   "outputs": [],
   "source": [
    "seq2 = seq.pop() # .pop() remuve el elemento del final y como cree otra variable la envia alli "
   ]
  },
  {
   "cell_type": "code",
   "execution_count": 140,
   "id": "bb95755e",
   "metadata": {},
   "outputs": [
    {
     "data": {
      "text/plain": [
       "['T', 'K', 'A', 'A', 'V', 'V', 'N', 'F']"
      ]
     },
     "execution_count": 140,
     "metadata": {},
     "output_type": "execute_result"
    }
   ],
   "source": [
    "seq"
   ]
  },
  {
   "cell_type": "code",
   "execution_count": 141,
   "id": "66e1eaf2",
   "metadata": {},
   "outputs": [
    {
     "data": {
      "text/plain": [
       "'T'"
      ]
     },
     "execution_count": 141,
     "metadata": {},
     "output_type": "execute_result"
    }
   ],
   "source": [
    "seq2"
   ]
  },
  {
   "cell_type": "code",
   "execution_count": 142,
   "id": "dffc1e8c",
   "metadata": {},
   "outputs": [],
   "source": [
    "a = [1, 5, 2, 42, 14, 132]"
   ]
  },
  {
   "cell_type": "code",
   "execution_count": 143,
   "id": "a178fdea",
   "metadata": {},
   "outputs": [],
   "source": [
    "a.sort() # sort( ) ordena los elementos "
   ]
  },
  {
   "cell_type": "code",
   "execution_count": 144,
   "id": "a2910751",
   "metadata": {},
   "outputs": [
    {
     "data": {
      "text/plain": [
       "[1, 2, 5, 14, 42, 132]"
      ]
     },
     "execution_count": 144,
     "metadata": {},
     "output_type": "execute_result"
    }
   ],
   "source": [
    "a"
   ]
  },
  {
   "cell_type": "code",
   "execution_count": 145,
   "id": "a229e4ad",
   "metadata": {},
   "outputs": [],
   "source": [
    "a.reverse() # le da un orden decreciente a los datos de la variable "
   ]
  },
  {
   "cell_type": "code",
   "execution_count": 146,
   "id": "fd1c108f",
   "metadata": {},
   "outputs": [
    {
     "data": {
      "text/plain": [
       "[132, 42, 14, 5, 2, 1]"
      ]
     },
     "execution_count": 146,
     "metadata": {},
     "output_type": "execute_result"
    }
   ],
   "source": [
    "a"
   ]
  },
  {
   "cell_type": "code",
   "execution_count": 147,
   "id": "5be11a36",
   "metadata": {},
   "outputs": [],
   "source": [
    "del(a[1:3]) # elimina elemnetos de la variable y "
   ]
  },
  {
   "cell_type": "code",
   "execution_count": 148,
   "id": "3ccec813",
   "metadata": {},
   "outputs": [
    {
     "data": {
      "text/plain": [
       "[132, 5, 2, 1]"
      ]
     },
     "execution_count": 148,
     "metadata": {},
     "output_type": "execute_result"
    }
   ],
   "source": [
    "a"
   ]
  },
  {
   "cell_type": "code",
   "execution_count": 149,
   "id": "07b062f9",
   "metadata": {},
   "outputs": [],
   "source": [
    "my_dict = {} # los diccionarios siempre llevaran llaves "
   ]
  },
  {
   "cell_type": "code",
   "execution_count": 150,
   "id": "ee7f97cf",
   "metadata": {},
   "outputs": [
    {
     "data": {
      "text/plain": [
       "{}"
      ]
     },
     "execution_count": 150,
     "metadata": {},
     "output_type": "execute_result"
    }
   ],
   "source": [
    "my_dict"
   ]
  },
  {
   "cell_type": "code",
   "execution_count": 151,
   "id": "4b0198c3",
   "metadata": {},
   "outputs": [],
   "source": [
    "my_dict = {\"a\": \"test\", \"b\": 3.14, \"c\": [1, 2, 3, 4]}"
   ]
  },
  {
   "cell_type": "code",
   "execution_count": 152,
   "id": "fc47cf53",
   "metadata": {},
   "outputs": [
    {
     "data": {
      "text/plain": [
       "{'a': 'test', 'b': 3.14, 'c': [1, 2, 3, 4]}"
      ]
     },
     "execution_count": 152,
     "metadata": {},
     "output_type": "execute_result"
    }
   ],
   "source": [
    "my_dict"
   ]
  },
  {
   "cell_type": "code",
   "execution_count": 153,
   "id": "f52ee548",
   "metadata": {},
   "outputs": [],
   "source": [
    "GenomeSize = {\"Homo sapiens\": 3200.0, \"Escherichia coli\": 4.6, \"Arabidopsis thaliana\": 157.0}"
   ]
  },
  {
   "cell_type": "code",
   "execution_count": 154,
   "id": "77938b8f",
   "metadata": {},
   "outputs": [
    {
     "data": {
      "text/plain": [
       "{'Homo sapiens': 3200.0,\n",
       " 'Escherichia coli': 4.6,\n",
       " 'Arabidopsis thaliana': 157.0}"
      ]
     },
     "execution_count": 154,
     "metadata": {},
     "output_type": "execute_result"
    }
   ],
   "source": [
    "GenomeSize"
   ]
  },
  {
   "cell_type": "code",
   "execution_count": 155,
   "id": "07e605e2",
   "metadata": {},
   "outputs": [
    {
     "data": {
      "text/plain": [
       "157.0"
      ]
     },
     "execution_count": 155,
     "metadata": {},
     "output_type": "execute_result"
    }
   ],
   "source": [
    "GenomeSize[\"Arabidopsis thaliana\"]"
   ]
  },
  {
   "cell_type": "code",
   "execution_count": 157,
   "id": "7aa15820",
   "metadata": {},
   "outputs": [],
   "source": [
    "GenomeSize[\"Sacharomices cerebiceae\"]= 12.1 # añado infomracion a mi variable con # [\"\"]= #"
   ]
  },
  {
   "cell_type": "code",
   "execution_count": 158,
   "id": "5d161caa",
   "metadata": {},
   "outputs": [
    {
     "data": {
      "text/plain": [
       "{'Homo sapiens': 3200.0,\n",
       " 'Escherichia coli': 4.6,\n",
       " 'Arabidopsis thaliana': 157.0,\n",
       " 'Sacharomices cerebiceae': 12.1}"
      ]
     },
     "execution_count": 158,
     "metadata": {},
     "output_type": "execute_result"
    }
   ],
   "source": [
    "GenomeSize"
   ]
  },
  {
   "cell_type": "code",
   "execution_count": 159,
   "id": "c1cac24c",
   "metadata": {},
   "outputs": [],
   "source": [
    "GenomeSize[\"Homo sapiens\"] = 3201.1"
   ]
  },
  {
   "cell_type": "code",
   "execution_count": 160,
   "id": "63bf3127",
   "metadata": {},
   "outputs": [
    {
     "data": {
      "text/plain": [
       "{'Homo sapiens': 3201.1,\n",
       " 'Escherichia coli': 4.6,\n",
       " 'Arabidopsis thaliana': 157.0,\n",
       " 'Sacharomices cerebiceae': 12.1}"
      ]
     },
     "execution_count": 160,
     "metadata": {},
     "output_type": "execute_result"
    }
   ],
   "source": [
    "GenomeSize"
   ]
  },
  {
   "cell_type": "code",
   "execution_count": 161,
   "id": "69ff70b7",
   "metadata": {},
   "outputs": [],
   "source": [
    "GS= GenomeSize.copy()"
   ]
  },
  {
   "cell_type": "code",
   "execution_count": 162,
   "id": "25f7a567",
   "metadata": {},
   "outputs": [
    {
     "data": {
      "text/plain": [
       "{'Homo sapiens': 3201.1,\n",
       " 'Escherichia coli': 4.6,\n",
       " 'Arabidopsis thaliana': 157.0,\n",
       " 'Sacharomices cerebiceae': 12.1}"
      ]
     },
     "execution_count": 162,
     "metadata": {},
     "output_type": "execute_result"
    }
   ],
   "source": [
    "GS"
   ]
  },
  {
   "cell_type": "code",
   "execution_count": 163,
   "id": "6e8c3114",
   "metadata": {},
   "outputs": [],
   "source": [
    "GenomeSize.clear()"
   ]
  },
  {
   "cell_type": "code",
   "execution_count": 164,
   "id": "ffb8044e",
   "metadata": {},
   "outputs": [
    {
     "data": {
      "text/plain": [
       "{}"
      ]
     },
     "execution_count": 164,
     "metadata": {},
     "output_type": "execute_result"
    }
   ],
   "source": [
    "GenomeSize\n"
   ]
  },
  {
   "cell_type": "code",
   "execution_count": 165,
   "id": "c992e6c7",
   "metadata": {},
   "outputs": [
    {
     "data": {
      "text/plain": [
       "{'Homo sapiens': 3201.1,\n",
       " 'Escherichia coli': 4.6,\n",
       " 'Arabidopsis thaliana': 157.0,\n",
       " 'Sacharomices cerebiceae': 12.1}"
      ]
     },
     "execution_count": 165,
     "metadata": {},
     "output_type": "execute_result"
    }
   ],
   "source": [
    "GS"
   ]
  },
  {
   "cell_type": "code",
   "execution_count": 169,
   "id": "3682e4fb",
   "metadata": {},
   "outputs": [
    {
     "data": {
      "text/plain": [
       "-10"
      ]
     },
     "execution_count": 169,
     "metadata": {},
     "output_type": "execute_result"
    }
   ],
   "source": [
    "GS.get(\"Mus musculus, -10\")\n",
    "-10"
   ]
  },
  {
   "cell_type": "code",
   "execution_count": 168,
   "id": "18027185",
   "metadata": {},
   "outputs": [
    {
     "data": {
      "text/plain": [
       "{'Homo sapiens': 3201.1,\n",
       " 'Escherichia coli': 4.6,\n",
       " 'Arabidopsis thaliana': 157.0,\n",
       " 'Sacharomices cerebiceae': 12.1}"
      ]
     },
     "execution_count": 168,
     "metadata": {},
     "output_type": "execute_result"
    }
   ],
   "source": [
    "GS"
   ]
  },
  {
   "cell_type": "code",
   "execution_count": 170,
   "id": "19554ba4",
   "metadata": {},
   "outputs": [
    {
     "data": {
      "text/plain": [
       "dict_keys(['Homo sapiens', 'Escherichia coli', 'Arabidopsis thaliana', 'Sacharomices cerebiceae'])"
      ]
     },
     "execution_count": 170,
     "metadata": {},
     "output_type": "execute_result"
    }
   ],
   "source": [
    "GS.keys()"
   ]
  },
  {
   "cell_type": "code",
   "execution_count": 171,
   "id": "f0e42385",
   "metadata": {},
   "outputs": [
    {
     "data": {
      "text/plain": [
       "dict_values([3201.1, 4.6, 157.0, 12.1])"
      ]
     },
     "execution_count": 171,
     "metadata": {},
     "output_type": "execute_result"
    }
   ],
   "source": [
    "GS.values()"
   ]
  },
  {
   "cell_type": "code",
   "execution_count": 172,
   "id": "bb45cad9",
   "metadata": {},
   "outputs": [
    {
     "data": {
      "text/plain": [
       "3201.1"
      ]
     },
     "execution_count": 172,
     "metadata": {},
     "output_type": "execute_result"
    }
   ],
   "source": [
    "GS.pop(\"Homo sapiens\")# .pop remueve el key del diccionario "
   ]
  },
  {
   "cell_type": "code",
   "execution_count": 173,
   "id": "62b3e2d8",
   "metadata": {},
   "outputs": [
    {
     "data": {
      "text/plain": [
       "{'Escherichia coli': 4.6,\n",
       " 'Arabidopsis thaliana': 157.0,\n",
       " 'Sacharomices cerebiceae': 12.1}"
      ]
     },
     "execution_count": 173,
     "metadata": {},
     "output_type": "execute_result"
    }
   ],
   "source": [
    "GS"
   ]
  },
  {
   "cell_type": "code",
   "execution_count": 174,
   "id": "a11b6f76",
   "metadata": {},
   "outputs": [],
   "source": [
    "D1 = {\"a\": 1, \"b\": 2, \"c\": 3}\n",
    "D2 = {\"a\": 2, \"d\": 4, \"e\": 5}"
   ]
  },
  {
   "cell_type": "code",
   "execution_count": 178,
   "id": "7c06892c",
   "metadata": {},
   "outputs": [],
   "source": [
    "D1.update(D2)\n"
   ]
  },
  {
   "cell_type": "code",
   "execution_count": 179,
   "id": "e081046c",
   "metadata": {},
   "outputs": [
    {
     "data": {
      "text/plain": [
       "{'a': 2, 'b': 2, 'c': 3, 'd': 4, 'e': 5}"
      ]
     },
     "execution_count": 179,
     "metadata": {},
     "output_type": "execute_result"
    }
   ],
   "source": [
    "D1"
   ]
  },
  {
   "cell_type": "code",
   "execution_count": 180,
   "id": "d1384474",
   "metadata": {},
   "outputs": [],
   "source": [
    "my_tuple = (1, \"two\", 3) # una tupla esta constituida de diferentes tipos de elementos "
   ]
  },
  {
   "cell_type": "code",
   "execution_count": 182,
   "id": "22da1ad6",
   "metadata": {},
   "outputs": [
    {
     "ename": "TypeError",
     "evalue": "'tuple' object does not support item assignment",
     "output_type": "error",
     "traceback": [
      "\u001b[1;31m---------------------------------------------------------------------------\u001b[0m",
      "\u001b[1;31mTypeError\u001b[0m                                 Traceback (most recent call last)",
      "Input \u001b[1;32mIn [182]\u001b[0m, in \u001b[0;36m<cell line: 1>\u001b[1;34m()\u001b[0m\n\u001b[1;32m----> 1\u001b[0m my_tuple[\u001b[38;5;241m1\u001b[39m]\u001b[38;5;241m=\u001b[39m\u001b[38;5;241m4\u001b[39m\n",
      "\u001b[1;31mTypeError\u001b[0m: 'tuple' object does not support item assignment"
     ]
    }
   ],
   "source": [
    "my_tuple[1]=4"
   ]
  },
  {
   "cell_type": "code",
   "execution_count": 183,
   "id": "cf10ea82",
   "metadata": {},
   "outputs": [],
   "source": [
    "tt = (1, 1, 1, 1, 2, 2, 4)"
   ]
  },
  {
   "cell_type": "code",
   "execution_count": 185,
   "id": "d5829eda",
   "metadata": {},
   "outputs": [
    {
     "data": {
      "text/plain": [
       "4"
      ]
     },
     "execution_count": 185,
     "metadata": {},
     "output_type": "execute_result"
    }
   ],
   "source": [
    "tt.count(1)# puedo contar las veces que se repiten los elementos de la tupla "
   ]
  },
  {
   "cell_type": "code",
   "execution_count": 191,
   "id": "6ee64a33",
   "metadata": {},
   "outputs": [
    {
     "ename": "ValueError",
     "evalue": "tuple.index(x): x not in tuple",
     "output_type": "error",
     "traceback": [
      "\u001b[1;31m---------------------------------------------------------------------------\u001b[0m",
      "\u001b[1;31mValueError\u001b[0m                                Traceback (most recent call last)",
      "Input \u001b[1;32mIn [191]\u001b[0m, in \u001b[0;36m<cell line: 1>\u001b[1;34m()\u001b[0m\n\u001b[1;32m----> 1\u001b[0m \u001b[43mtt\u001b[49m\u001b[38;5;241;43m.\u001b[39;49m\u001b[43mindex\u001b[49m\u001b[43m(\u001b[49m\u001b[38;5;241;43m0\u001b[39;49m\u001b[43m)\u001b[49m\n",
      "\u001b[1;31mValueError\u001b[0m: tuple.index(x): x not in tuple"
     ]
    }
   ],
   "source": [
    "tt.index(0) # index"
   ]
  },
  {
   "cell_type": "code",
   "execution_count": 192,
   "id": "5199257b",
   "metadata": {},
   "outputs": [],
   "source": [
    "a = [5, 6, 7, 7, 7, 8, 9, 9]"
   ]
  },
  {
   "cell_type": "code",
   "execution_count": 193,
   "id": "1ca4bd34",
   "metadata": {},
   "outputs": [],
   "source": [
    "b = set(a)# set clasifica los elementos que se repiten y los coloca en una nueva variable "
   ]
  },
  {
   "cell_type": "code",
   "execution_count": 196,
   "id": "0955612c",
   "metadata": {},
   "outputs": [
    {
     "data": {
      "text/plain": [
       "{5, 6, 7, 8, 9}"
      ]
     },
     "execution_count": 196,
     "metadata": {},
     "output_type": "execute_result"
    }
   ],
   "source": [
    "b"
   ]
  },
  {
   "cell_type": "code",
   "execution_count": 197,
   "id": "2cee6d74",
   "metadata": {},
   "outputs": [],
   "source": [
    "c = {3, 4, 5, 6}"
   ]
  },
  {
   "cell_type": "code",
   "execution_count": 198,
   "id": "07997801",
   "metadata": {},
   "outputs": [
    {
     "data": {
      "text/plain": [
       "{5, 6}"
      ]
     },
     "execution_count": 198,
     "metadata": {},
     "output_type": "execute_result"
    }
   ],
   "source": [
    "b & c # habla de lo comun entre los dos conjuntos o diccionarios "
   ]
  },
  {
   "cell_type": "code",
   "execution_count": 199,
   "id": "c2f9ad78",
   "metadata": {},
   "outputs": [
    {
     "data": {
      "text/plain": [
       "{3, 4, 5, 6, 7, 8, 9}"
      ]
     },
     "execution_count": 199,
     "metadata": {},
     "output_type": "execute_result"
    }
   ],
   "source": [
    "b | c # une sin repeticiones posibles "
   ]
  },
  {
   "cell_type": "code",
   "execution_count": 200,
   "id": "cbfb4a05",
   "metadata": {},
   "outputs": [
    {
     "data": {
      "text/plain": [
       "{3, 4, 7, 8, 9}"
      ]
     },
     "execution_count": 200,
     "metadata": {},
     "output_type": "execute_result"
    }
   ],
   "source": [
    "b ^ c # se refiere a la diferencia entre ambos diccionarios "
   ]
  },
  {
   "cell_type": "code",
   "execution_count": 201,
   "id": "57d17ee9",
   "metadata": {},
   "outputs": [
    {
     "data": {
      "text/plain": [
       "{4}"
      ]
     },
     "execution_count": 201,
     "metadata": {},
     "output_type": "execute_result"
    }
   ],
   "source": [
    "s1 = {1, 2, 3, 4}\n",
    "s2 = {4, 5, 6}\n",
    "s1.intersection(s2)# en que se parecen ambos conjuntos "
   ]
  },
  {
   "cell_type": "code",
   "execution_count": 202,
   "id": "9844e41a",
   "metadata": {},
   "outputs": [
    {
     "data": {
      "text/plain": [
       "{1, 2, 3, 4, 5, 6}"
      ]
     },
     "execution_count": 202,
     "metadata": {},
     "output_type": "execute_result"
    }
   ],
   "source": [
    "s1.union(s2)# une los datos "
   ]
  },
  {
   "cell_type": "code",
   "execution_count": 203,
   "id": "12ef8c44",
   "metadata": {},
   "outputs": [
    {
     "data": {
      "text/plain": [
       "{1, 2, 3, 5, 6}"
      ]
     },
     "execution_count": 203,
     "metadata": {},
     "output_type": "execute_result"
    }
   ],
   "source": [
    "s1.symmetric_difference(s2) # en que se diferencian los conjuntos "
   ]
  },
  {
   "cell_type": "code",
   "execution_count": 204,
   "id": "64672fa3",
   "metadata": {},
   "outputs": [
    {
     "data": {
      "text/plain": [
       "False"
      ]
     },
     "execution_count": 204,
     "metadata": {},
     "output_type": "execute_result"
    }
   ],
   "source": [
    "s1.issubset(s2) # preguntaa si es un subconjunto "
   ]
  },
  {
   "cell_type": "code",
   "execution_count": 205,
   "id": "4ad62c34",
   "metadata": {},
   "outputs": [
    {
     "data": {
      "text/plain": [
       "False"
      ]
     },
     "execution_count": 205,
     "metadata": {},
     "output_type": "execute_result"
    }
   ],
   "source": [
    "s1.issuperset(s2) # pregunta si es un superconjunto "
   ]
  },
  {
   "cell_type": "code",
   "execution_count": 206,
   "id": "1a3bcc32",
   "metadata": {},
   "outputs": [
    {
     "data": {
      "text/plain": [
       "True"
      ]
     },
     "execution_count": 206,
     "metadata": {},
     "output_type": "execute_result"
    }
   ],
   "source": [
    "s1.issubset(s1.union(s2))"
   ]
  },
  {
   "cell_type": "code",
   "execution_count": 207,
   "id": "3c242b0c",
   "metadata": {},
   "outputs": [
    {
     "data": {
      "text/plain": [
       "tuple"
      ]
     },
     "execution_count": 207,
     "metadata": {},
     "output_type": "execute_result"
    }
   ],
   "source": [
    "type((1, 2)) # esto es una tupla por su convinacion de agrupadores matematicos (())"
   ]
  },
  {
   "cell_type": "code",
   "execution_count": 208,
   "id": "0419fe2f",
   "metadata": {},
   "outputs": [
    {
     "data": {
      "text/plain": [
       "list"
      ]
     },
     "execution_count": 208,
     "metadata": {},
     "output_type": "execute_result"
    }
   ],
   "source": [
    "type([1, 2]) # es una lsita ([]) "
   ]
  },
  {
   "cell_type": "code",
   "execution_count": 209,
   "id": "3ff9a73a",
   "metadata": {},
   "outputs": [
    {
     "data": {
      "text/plain": [
       "dict"
      ]
     },
     "execution_count": 209,
     "metadata": {},
     "output_type": "execute_result"
    }
   ],
   "source": [
    "type({1: \"a\", 2: \"b\"}) # es un diccionario pot ({x:y})"
   ]
  },
  {
   "cell_type": "code",
   "execution_count": 210,
   "id": "5f901fb0",
   "metadata": {},
   "outputs": [
    {
     "ename": "NameError",
     "evalue": "name 'one' is not defined",
     "output_type": "error",
     "traceback": [
      "\u001b[1;31m---------------------------------------------------------------------------\u001b[0m",
      "\u001b[1;31mNameError\u001b[0m                                 Traceback (most recent call last)",
      "Input \u001b[1;32mIn [210]\u001b[0m, in \u001b[0;36m<cell line: 1>\u001b[1;34m()\u001b[0m\n\u001b[1;32m----> 1\u001b[0m container \u001b[38;5;241m=\u001b[39m [\u001b[43mone\u001b[49m, two, three]\n",
      "\u001b[1;31mNameError\u001b[0m: name 'one' is not defined"
     ]
    }
   ],
   "source": [
    "container = [one, two, three]"
   ]
  },
  {
   "cell_type": "code",
   "execution_count": 211,
   "id": "36f9a9a3",
   "metadata": {},
   "outputs": [
    {
     "data": {
      "text/plain": [
       "set"
      ]
     },
     "execution_count": 211,
     "metadata": {},
     "output_type": "execute_result"
    }
   ],
   "source": [
    "type({1, 2}) # ({}) es un conjunto "
   ]
  },
  {
   "cell_type": "code",
   "execution_count": 212,
   "id": "c5057f91",
   "metadata": {},
   "outputs": [],
   "source": [
    "one = (1, 2, \"tuple\")\n",
    "two = [3, 4, \"list\"]\n",
    "three = {5: [\"value1\"], 6: [\"value2\"]}"
   ]
  },
  {
   "cell_type": "code",
   "execution_count": 213,
   "id": "e67c1da1",
   "metadata": {},
   "outputs": [],
   "source": [
    "container = [one, two, three]"
   ]
  },
  {
   "cell_type": "code",
   "execution_count": 214,
   "id": "1f203608",
   "metadata": {},
   "outputs": [
    {
     "data": {
      "text/plain": [
       "[(1, 2, 'tuple'), [3, 4, 'list'], {5: ['value1'], 6: ['value2']}]"
      ]
     },
     "execution_count": 214,
     "metadata": {},
     "output_type": "execute_result"
    }
   ],
   "source": [
    "container\n"
   ]
  },
  {
   "cell_type": "code",
   "execution_count": 217,
   "id": "9c744e1e",
   "metadata": {},
   "outputs": [
    {
     "ename": "TypeError",
     "evalue": "unhashable type: 'list'",
     "output_type": "error",
     "traceback": [
      "\u001b[1;31m---------------------------------------------------------------------------\u001b[0m",
      "\u001b[1;31mTypeError\u001b[0m                                 Traceback (most recent call last)",
      "Input \u001b[1;32mIn [217]\u001b[0m, in \u001b[0;36m<cell line: 1>\u001b[1;34m()\u001b[0m\n\u001b[1;32m----> 1\u001b[0m sin \u001b[38;5;241m=\u001b[39m{one, two , three}\n",
      "\u001b[1;31mTypeError\u001b[0m: unhashable type: 'list'"
     ]
    }
   ],
   "source": [
    "sin ={one, two , three}"
   ]
  },
  {
   "cell_type": "code",
   "execution_count": 218,
   "id": "7a2cfa5e",
   "metadata": {},
   "outputs": [],
   "source": [
    "container[2][5].append(\"value 3\") # puedo agragar a informacion exacta a la lista dentro del diccionario escogiendo exactAMENTE DONDE AGREGARLO "
   ]
  },
  {
   "cell_type": "code",
   "execution_count": 219,
   "id": "f747897f",
   "metadata": {},
   "outputs": [
    {
     "data": {
      "text/plain": [
       "[(1, 2, 'tuple'), [3, 4, 'list'], {5: ['value1', 'value 3'], 6: ['value2']}]"
      ]
     },
     "execution_count": 219,
     "metadata": {},
     "output_type": "execute_result"
    }
   ],
   "source": [
    "container\n"
   ]
  },
  {
   "cell_type": "code",
   "execution_count": 220,
   "id": "d965d2ec",
   "metadata": {},
   "outputs": [],
   "source": [
    "container[2][6].append(\"value4\")"
   ]
  },
  {
   "cell_type": "code",
   "execution_count": 222,
   "id": "2f5c6efe",
   "metadata": {},
   "outputs": [
    {
     "ename": "AttributeError",
     "evalue": "'str' object has no attribute 'append'",
     "output_type": "error",
     "traceback": [
      "\u001b[1;31m---------------------------------------------------------------------------\u001b[0m",
      "\u001b[1;31mAttributeError\u001b[0m                            Traceback (most recent call last)",
      "Input \u001b[1;32mIn [222]\u001b[0m, in \u001b[0;36m<cell line: 1>\u001b[1;34m()\u001b[0m\n\u001b[1;32m----> 1\u001b[0m \u001b[43mcontainer\u001b[49m\u001b[43m[\u001b[49m\u001b[38;5;241;43m0\u001b[39;49m\u001b[43m]\u001b[49m\u001b[43m[\u001b[49m\u001b[38;5;241;43m2\u001b[39;49m\u001b[43m]\u001b[49m\u001b[38;5;241;43m.\u001b[39;49m\u001b[43mappend\u001b[49m(\u001b[38;5;124m\"\u001b[39m\u001b[38;5;124mbolibia\u001b[39m\u001b[38;5;124m\"\u001b[39m)\n",
      "\u001b[1;31mAttributeError\u001b[0m: 'str' object has no attribute 'append'"
     ]
    }
   ],
   "source": [
    "container[0][2].append(\"bolibia\")\n"
   ]
  },
  {
   "cell_type": "code",
   "execution_count": 229,
   "id": "7438df94",
   "metadata": {},
   "outputs": [],
   "source": [
    "a1 = [1, 1, 2, 3, 5, 8]\n",
    "\n"
   ]
  },
  {
   "cell_type": "code",
   "execution_count": 230,
   "id": "6b1d3999",
   "metadata": {},
   "outputs": [
    {
     "ename": "AttributeError",
     "evalue": "'list' object has no attribute 'difference'",
     "output_type": "error",
     "traceback": [
      "\u001b[1;31m---------------------------------------------------------------------------\u001b[0m",
      "\u001b[1;31mAttributeError\u001b[0m                            Traceback (most recent call last)",
      "Input \u001b[1;32mIn [230]\u001b[0m, in \u001b[0;36m<cell line: 1>\u001b[1;34m()\u001b[0m\n\u001b[1;32m----> 1\u001b[0m \u001b[43ma1\u001b[49m\u001b[38;5;241;43m.\u001b[39;49m\u001b[43mdifference\u001b[49m(b1)\n",
      "\u001b[1;31mAttributeError\u001b[0m: 'list' object has no attribute 'difference'"
     ]
    }
   ],
   "source": [
    "a1.difference(b1)"
   ]
  },
  {
   "cell_type": "code",
   "execution_count": 231,
   "id": "b2f81248",
   "metadata": {},
   "outputs": [],
   "source": [
    "b= set(a1)"
   ]
  },
  {
   "cell_type": "code",
   "execution_count": 232,
   "id": "6d733af1",
   "metadata": {},
   "outputs": [
    {
     "data": {
      "text/plain": [
       "{1, 2, 3, 5, 8}"
      ]
     },
     "execution_count": 232,
     "metadata": {},
     "output_type": "execute_result"
    }
   ],
   "source": [
    "b"
   ]
  },
  {
   "cell_type": "code",
   "execution_count": 233,
   "id": "a68eaedb",
   "metadata": {},
   "outputs": [
    {
     "ename": "TypeError",
     "evalue": "unsupported operand type(s) for |: 'list' and 'set'",
     "output_type": "error",
     "traceback": [
      "\u001b[1;31m---------------------------------------------------------------------------\u001b[0m",
      "\u001b[1;31mTypeError\u001b[0m                                 Traceback (most recent call last)",
      "Input \u001b[1;32mIn [233]\u001b[0m, in \u001b[0;36m<cell line: 1>\u001b[1;34m()\u001b[0m\n\u001b[1;32m----> 1\u001b[0m \u001b[43ma1\u001b[49m\u001b[43m \u001b[49m\u001b[38;5;241;43m|\u001b[39;49m\u001b[43m \u001b[49m\u001b[43mb\u001b[49m\n",
      "\u001b[1;31mTypeError\u001b[0m: unsupported operand type(s) for |: 'list' and 'set'"
     ]
    }
   ],
   "source": [
    "a1 | b"
   ]
  },
  {
   "cell_type": "code",
   "execution_count": 234,
   "id": "39842113",
   "metadata": {},
   "outputs": [],
   "source": [
    "c= {9,7,6}"
   ]
  },
  {
   "cell_type": "code",
   "execution_count": 235,
   "id": "73e6309e",
   "metadata": {},
   "outputs": [
    {
     "data": {
      "text/plain": [
       "{1, 2, 3, 5, 6, 7, 8, 9}"
      ]
     },
     "execution_count": 235,
     "metadata": {},
     "output_type": "execute_result"
    }
   ],
   "source": [
    "b|c"
   ]
  },
  {
   "cell_type": "code",
   "execution_count": 236,
   "id": "a62c83f6",
   "metadata": {},
   "outputs": [
    {
     "data": {
      "text/plain": [
       "set()"
      ]
     },
     "execution_count": 236,
     "metadata": {},
     "output_type": "execute_result"
    }
   ],
   "source": [
    "b&c"
   ]
  },
  {
   "cell_type": "code",
   "execution_count": 237,
   "id": "65e61942",
   "metadata": {},
   "outputs": [
    {
     "data": {
      "text/plain": [
       "set()"
      ]
     },
     "execution_count": 237,
     "metadata": {},
     "output_type": "execute_result"
    }
   ],
   "source": [
    "b & c"
   ]
  },
  {
   "cell_type": "code",
   "execution_count": 238,
   "id": "c44cf57c",
   "metadata": {},
   "outputs": [
    {
     "data": {
      "text/plain": [
       "set()"
      ]
     },
     "execution_count": 238,
     "metadata": {},
     "output_type": "execute_result"
    }
   ],
   "source": [
    "set()"
   ]
  },
  {
   "cell_type": "code",
   "execution_count": 240,
   "id": "5e358672",
   "metadata": {},
   "outputs": [
    {
     "data": {
      "text/plain": [
       "{1, 2, 3, 5, 6, 7, 8, 9}"
      ]
     },
     "execution_count": 240,
     "metadata": {},
     "output_type": "execute_result"
    }
   ],
   "source": [
    "b.union(c)"
   ]
  },
  {
   "cell_type": "code",
   "execution_count": 241,
   "id": "3047b74d",
   "metadata": {},
   "outputs": [
    {
     "data": {
      "text/plain": [
       "{1, 2, 3, 5, 8}"
      ]
     },
     "execution_count": 241,
     "metadata": {},
     "output_type": "execute_result"
    }
   ],
   "source": [
    "b.difference(c)"
   ]
  },
  {
   "cell_type": "code",
   "execution_count": 242,
   "id": "1e53411d",
   "metadata": {},
   "outputs": [
    {
     "data": {
      "text/plain": [
       "{1, 2, 3, 5, 6, 7, 8, 9}"
      ]
     },
     "execution_count": 242,
     "metadata": {},
     "output_type": "execute_result"
    }
   ],
   "source": [
    "b.symmetric_difference(c)"
   ]
  },
  {
   "cell_type": "code",
   "execution_count": 243,
   "id": "417d189c",
   "metadata": {},
   "outputs": [
    {
     "data": {
      "text/plain": [
       "[1, 1, 2, 3, 5, 8]"
      ]
     },
     "execution_count": 243,
     "metadata": {},
     "output_type": "execute_result"
    }
   ],
   "source": [
    "a"
   ]
  },
  {
   "cell_type": "code",
   "execution_count": 246,
   "id": "d2fde772",
   "metadata": {},
   "outputs": [
    {
     "data": {
      "text/plain": [
       "[3, 5]"
      ]
     },
     "execution_count": 246,
     "metadata": {},
     "output_type": "execute_result"
    }
   ],
   "source": [
    "a[3:5]"
   ]
  },
  {
   "cell_type": "code",
   "execution_count": 249,
   "id": "b3a1e2aa",
   "metadata": {},
   "outputs": [],
   "source": [
    "c=a[-2:]"
   ]
  },
  {
   "cell_type": "code",
   "execution_count": 250,
   "id": "1f11a324",
   "metadata": {},
   "outputs": [
    {
     "data": {
      "text/plain": [
       "[5, 8]"
      ]
     },
     "execution_count": 250,
     "metadata": {},
     "output_type": "execute_result"
    }
   ],
   "source": [
    "c"
   ]
  },
  {
   "cell_type": "code",
   "execution_count": 251,
   "id": "257b651b",
   "metadata": {},
   "outputs": [
    {
     "data": {
      "text/plain": [
       "[1, 1, 2, 3, 5, 8]"
      ]
     },
     "execution_count": 251,
     "metadata": {},
     "output_type": "execute_result"
    }
   ],
   "source": [
    "a"
   ]
  },
  {
   "cell_type": "code",
   "execution_count": 252,
   "id": "9050f94c",
   "metadata": {},
   "outputs": [
    {
     "ename": "IndexError",
     "evalue": "list index out of range",
     "output_type": "error",
     "traceback": [
      "\u001b[1;31m---------------------------------------------------------------------------\u001b[0m",
      "\u001b[1;31mIndexError\u001b[0m                                Traceback (most recent call last)",
      "Input \u001b[1;32mIn [252]\u001b[0m, in \u001b[0;36m<cell line: 1>\u001b[1;34m()\u001b[0m\n\u001b[1;32m----> 1\u001b[0m \u001b[43ma\u001b[49m\u001b[43m[\u001b[49m\u001b[38;5;241;43m13\u001b[39;49m\u001b[43m]\u001b[49m\n",
      "\u001b[1;31mIndexError\u001b[0m: list index out of range"
     ]
    }
   ],
   "source": [
    "a[13]"
   ]
  },
  {
   "cell_type": "code",
   "execution_count": 254,
   "id": "f0d3c100",
   "metadata": {},
   "outputs": [],
   "source": [
    "a.append(\"13\")"
   ]
  },
  {
   "cell_type": "code",
   "execution_count": null,
   "id": "73ca9586",
   "metadata": {},
   "outputs": [],
   "source": []
  },
  {
   "cell_type": "code",
   "execution_count": 256,
   "id": "e0784ba3",
   "metadata": {},
   "outputs": [
    {
     "data": {
      "text/plain": [
       "[1, 1, 2, 3, 5, 8, '3', '13']"
      ]
     },
     "execution_count": 256,
     "metadata": {},
     "output_type": "execute_result"
    }
   ],
   "source": [
    "a"
   ]
  },
  {
   "cell_type": "code",
   "execution_count": 257,
   "id": "972684f1",
   "metadata": {},
   "outputs": [],
   "source": [
    "a.reverse()"
   ]
  },
  {
   "cell_type": "code",
   "execution_count": 258,
   "id": "9d6136b0",
   "metadata": {},
   "outputs": [
    {
     "data": {
      "text/plain": [
       "['13', '3', 8, 5, 3, 2, 1, 1]"
      ]
     },
     "execution_count": 258,
     "metadata": {},
     "output_type": "execute_result"
    }
   ],
   "source": [
    "a"
   ]
  },
  {
   "cell_type": "code",
   "execution_count": 260,
   "id": "3520aa6a",
   "metadata": {},
   "outputs": [],
   "source": [
    "m = {\"a\": \".-\", \"b\": \"-...-\", \"c\": '-.-.'}"
   ]
  },
  {
   "cell_type": "code",
   "execution_count": 263,
   "id": "62e9826d",
   "metadata": {},
   "outputs": [
    {
     "ename": "KeyError",
     "evalue": "3",
     "output_type": "error",
     "traceback": [
      "\u001b[1;31m---------------------------------------------------------------------------\u001b[0m",
      "\u001b[1;31mKeyError\u001b[0m                                  Traceback (most recent call last)",
      "Input \u001b[1;32mIn [263]\u001b[0m, in \u001b[0;36m<cell line: 1>\u001b[1;34m()\u001b[0m\n\u001b[1;32m----> 1\u001b[0m \u001b[43mm\u001b[49m\u001b[43m[\u001b[49m\u001b[38;5;241;43m3\u001b[39;49m\u001b[43m]\u001b[49m[d]\u001b[38;5;241m.\u001b[39mappend(\u001b[38;5;124m\"\u001b[39m\u001b[38;5;124m-..\u001b[39m\u001b[38;5;124m\"\u001b[39m)\n",
      "\u001b[1;31mKeyError\u001b[0m: 3"
     ]
    }
   ],
   "source": [
    "m.append(\"-..\")"
   ]
  },
  {
   "cell_type": "code",
   "execution_count": 264,
   "id": "c5ed7122",
   "metadata": {},
   "outputs": [
    {
     "ename": "TypeError",
     "evalue": "'>' not supported between instances of 'int' and 'str'",
     "output_type": "error",
     "traceback": [
      "\u001b[1;31m---------------------------------------------------------------------------\u001b[0m",
      "\u001b[1;31mTypeError\u001b[0m                                 Traceback (most recent call last)",
      "Input \u001b[1;32mIn [264]\u001b[0m, in \u001b[0;36m<cell line: 1>\u001b[1;34m()\u001b[0m\n\u001b[1;32m----> 1\u001b[0m \u001b[38;5;28;43mmax\u001b[39;49m\u001b[43m(\u001b[49m\u001b[43ma\u001b[49m\u001b[43m)\u001b[49m\n",
      "\u001b[1;31mTypeError\u001b[0m: '>' not supported between instances of 'int' and 'str'"
     ]
    }
   ],
   "source": [
    "max(a)"
   ]
  },
  {
   "cell_type": "code",
   "execution_count": 265,
   "id": "aa5a40de",
   "metadata": {},
   "outputs": [
    {
     "data": {
      "text/plain": [
       "3.71"
      ]
     },
     "execution_count": 265,
     "metadata": {},
     "output_type": "execute_result"
    }
   ],
   "source": [
    "max(1.2, 3.71, 1.15)"
   ]
  },
  {
   "cell_type": "code",
   "execution_count": 266,
   "id": "5767ec3b",
   "metadata": {},
   "outputs": [
    {
     "data": {
      "text/plain": [
       "'u'"
      ]
     },
     "execution_count": 266,
     "metadata": {},
     "output_type": "execute_result"
    }
   ],
   "source": [
    "max(\"scientific computing\")"
   ]
  },
  {
   "cell_type": "code",
   "execution_count": 267,
   "id": "8d1cce72",
   "metadata": {},
   "outputs": [
    {
     "data": {
      "text/plain": [
       "' '"
      ]
     },
     "execution_count": 267,
     "metadata": {},
     "output_type": "execute_result"
    }
   ],
   "source": [
    "min(\"scientific computing\")"
   ]
  },
  {
   "cell_type": "code",
   "execution_count": 268,
   "id": "86b95b17",
   "metadata": {},
   "outputs": [
    {
     "ename": "TypeError",
     "evalue": "unsupported operand type(s) for +: 'int' and 'str'",
     "output_type": "error",
     "traceback": [
      "\u001b[1;31m---------------------------------------------------------------------------\u001b[0m",
      "\u001b[1;31mTypeError\u001b[0m                                 Traceback (most recent call last)",
      "Input \u001b[1;32mIn [268]\u001b[0m, in \u001b[0;36m<cell line: 1>\u001b[1;34m()\u001b[0m\n\u001b[1;32m----> 1\u001b[0m \u001b[38;5;28;43msum\u001b[39;49m\u001b[43m(\u001b[49m\u001b[43ma\u001b[49m\u001b[43m)\u001b[49m\n",
      "\u001b[1;31mTypeError\u001b[0m: unsupported operand type(s) for +: 'int' and 'str'"
     ]
    }
   ],
   "source": [
    "sum(a)"
   ]
  },
  {
   "cell_type": "code",
   "execution_count": 269,
   "id": "e352acc1",
   "metadata": {},
   "outputs": [
    {
     "data": {
      "text/plain": [
       "{1, 2, 3, 5, 8}"
      ]
     },
     "execution_count": 269,
     "metadata": {},
     "output_type": "execute_result"
    }
   ],
   "source": [
    "set([1, 1, 2, 3, 5, 8])"
   ]
  },
  {
   "cell_type": "code",
   "execution_count": 270,
   "id": "5c311200",
   "metadata": {},
   "outputs": [
    {
     "data": {
      "text/plain": [
       "19"
      ]
     },
     "execution_count": 270,
     "metadata": {},
     "output_type": "execute_result"
    }
   ],
   "source": [
    "sum(set([1, 1, 2, 3, 5, 8]))"
   ]
  },
  {
   "cell_type": "code",
   "execution_count": 271,
   "id": "da7b35ee",
   "metadata": {},
   "outputs": [
    {
     "data": {
      "text/plain": [
       "True"
      ]
     },
     "execution_count": 271,
     "metadata": {},
     "output_type": "execute_result"
    }
   ],
   "source": [
    "\"s\" in \"string\""
   ]
  },
  {
   "cell_type": "code",
   "execution_count": 277,
   "id": "bbe88b50",
   "metadata": {},
   "outputs": [
    {
     "data": {
      "text/plain": [
       "True"
      ]
     },
     "execution_count": 277,
     "metadata": {},
     "output_type": "execute_result"
    }
   ],
   "source": [
    "36 in [1, 2, 36]"
   ]
  },
  {
   "cell_type": "code",
   "execution_count": 279,
   "id": "5619f4a4",
   "metadata": {},
   "outputs": [
    {
     "data": {
      "text/plain": [
       "True"
      ]
     },
     "execution_count": 279,
     "metadata": {},
     "output_type": "execute_result"
    }
   ],
   "source": [
    "\"aaa\" in [(1, 3), (1, 2), 1000, 'aaa'] # in busca en lista "
   ]
  },
  {
   "cell_type": "code",
   "execution_count": 281,
   "id": "884bbd42",
   "metadata": {},
   "outputs": [
    {
     "data": {
      "text/plain": [
       "True"
      ]
     },
     "execution_count": 281,
     "metadata": {},
     "output_type": "execute_result"
    }
   ],
   "source": [
    "\"b\" in {\"a\": 1, \"b\": 2, \"c\": 3} # \"\" se busca en diccionarios "
   ]
  },
  {
   "cell_type": "code",
   "execution_count": null,
   "id": "05abdd8c",
   "metadata": {},
   "outputs": [],
   "source": []
  }
 ],
 "metadata": {
  "kernelspec": {
   "display_name": "Python 3 (ipykernel)",
   "language": "python",
   "name": "python3"
  },
  "language_info": {
   "codemirror_mode": {
    "name": "ipython",
    "version": 3
   },
   "file_extension": ".py",
   "mimetype": "text/x-python",
   "name": "python",
   "nbconvert_exporter": "python",
   "pygments_lexer": "ipython3",
   "version": "3.9.12"
  }
 },
 "nbformat": 4,
 "nbformat_minor": 5
}
