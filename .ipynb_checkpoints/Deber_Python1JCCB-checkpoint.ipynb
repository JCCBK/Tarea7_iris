{
 "cells": [
  {
   "cell_type": "markdown",
   "id": "4a47f089",
   "metadata": {},
   "source": [
    "## Deber sobre FORWARD AND REVERSE "
   ]
  },
  {
   "cell_type": "code",
   "execution_count": 1,
   "id": "838c6db9",
   "metadata": {},
   "outputs": [],
   "source": [
    "seq2=\"AAGGACCNGACATCCATCGCTGATGTCAATCCCCCGTGGATCGTAAGTCCGGGAGTAGGAGGAGGAAGGGTCGTCCCACAGTGCGAAGAGGCTTCTGACCTACTGACGGTACCTCCTCAGTGTCAGCCTATAGTCGGAGCTCGAGGGAGACTCGGTCCTCTGTAAAAGTCCGAATACCTTTGATGAAGGAGGTCTTCTATAGGACGGTAG\""
   ]
  },
  {
   "cell_type": "code",
   "execution_count": 2,
   "id": "5d24d958",
   "metadata": {},
   "outputs": [
    {
     "data": {
      "text/plain": [
       "210"
      ]
     },
     "execution_count": 2,
     "metadata": {},
     "output_type": "execute_result"
    }
   ],
   "source": [
    "len(seq2)"
   ]
  },
  {
   "cell_type": "code",
   "execution_count": 4,
   "id": "b3b4e625",
   "metadata": {},
   "outputs": [],
   "source": [
    "nuc_c = seq2.count(\"C\")\n",
    "nuc_g = seq2.count(\"G\")\n",
    "len_seq2 = len(seq2)\n",
    "\n",
    "percent_GC = round(100*(nuc_c + nuc_g) / len_seq2, 4)"
   ]
  },
  {
   "cell_type": "code",
   "execution_count": 5,
   "id": "f5ddfcd7",
   "metadata": {},
   "outputs": [
    {
     "data": {
      "text/plain": [
       "'ATCCATCGCTGATGTCAATCCCCCGTGGATCGTAAGTCCGGGAGTAG'"
      ]
     },
     "execution_count": 5,
     "metadata": {},
     "output_type": "execute_result"
    }
   ],
   "source": [
    "start = seq2.find(\"ATC\") # Codon de inicio\n",
    "end = seq2.find(\"TAG\") # Codon de final\n",
    "\n",
    "mrna = seq2[start : end + 3] \n",
    "mrna"
   ]
  },
  {
   "cell_type": "code",
   "execution_count": 6,
   "id": "d277ff91",
   "metadata": {},
   "outputs": [
    {
     "data": {
      "text/plain": [
       "'AAGGACCNGAC***C***GCTGATGTCA***CCCCGTGG***GTAAGTCCGGGAG,,,GAGGAGGAAGGGTCGTCCCACAGTGCGAAGAGGCTTCTGACCTACTGACGGTACCTCCTCAGTGTCAGCCTA,,,TCGGAGCTCGAGGGAGACTCGGTCCTCTGTAAAAGTCCGAATACCTTTGATGAAGGAGGTCTTCTA,,,GACGG,,,'"
      ]
     },
     "execution_count": 6,
     "metadata": {},
     "output_type": "execute_result"
    }
   ],
   "source": [
    "dna_show = seq2.replace(\"ATC\", \"***\")\n",
    "dna_show = dna_show.replace(\"TAG\", \",,,\")\n",
    "dna_show"
   ]
  },
  {
   "cell_type": "code",
   "execution_count": 8,
   "id": "88a766c5",
   "metadata": {},
   "outputs": [
    {
     "name": "stdout",
     "output_type": "stream",
     "text": [
      "AAGGACCNGACATCCATCGCTGATGTCAATCCCCCGTGGATCGTAAGTCCGGGAGTAGGAGGAGGAAGGGTCGTCCCACAGTGCGAAGAGGCTTCTGACCTACTGACGGTACCTCCTCAGTGTCAGCCTATAGTCGGAGCTCGAGGGAGACTCGGTCCTCTGTAAAAGTCCGAATACCTTTGATGAAGGAGGTCTTCTATAGGACGGTAG\n",
      "TTCCTGGNCTGTAGGTAGCGACTACAGTTAGGGGGCACCTAGCATTCAGGCCCTCATCCTCCTCCTTCCCAGCAGGGTGTCACGCTTCTCCGAAGACTGGATGACTGCCATGGAGGAGTCACAGTCGGATATCAGCCTCGAGCTCCCTCTGAGCCAGGAGACATTTTCAGGCTTATGGAAACTACTTCCTCCAGAAGATATCCTGCCATC\n",
      "CTACCGTCCTATAGAAGACCTCCTTCATCAAAGGTATTCGGACTTTTACAGAGGACCGAGTCTCCCTCGAGCTCCGACTATAGGCTGACACTGAGGAGGTACCGTCAGTAGGTCAGAAGCCTCTTCGCACTGTGGGACGACCCTTCCTCCTCCTACTCCCGGACTTACGATCCACGGGGGATTGACATCAGCGATGGATGTCNGGTCCTT\n"
     ]
    }
   ],
   "source": [
    "seq2_temp = seq2.replace(\"A\", \"t\")\n",
    "seq2_temp = seq2_temp.replace(\"T\", \"a\")\n",
    "seq2_temp = seq2_temp.replace(\"C\", \"g\")\n",
    "seq2_temp = seq2_temp.replace(\"G\", \"c\")\n",
    "cseq2 = seq2_temp.upper()\n",
    "rcseq2 = cseq2[::-1]\n",
    "\n",
    "print(seq2)\n",
    "print(cseq2)\n",
    "print(rcseq2)"
   ]
  },
  {
   "cell_type": "code",
   "execution_count": null,
   "id": "b3a32a89",
   "metadata": {},
   "outputs": [],
   "source": []
  }
 ],
 "metadata": {
  "kernelspec": {
   "display_name": "Python 3 (ipykernel)",
   "language": "python",
   "name": "python3"
  },
  "language_info": {
   "codemirror_mode": {
    "name": "ipython",
    "version": 3
   },
   "file_extension": ".py",
   "mimetype": "text/x-python",
   "name": "python",
   "nbconvert_exporter": "python",
   "pygments_lexer": "ipython3",
   "version": "3.9.12"
  }
 },
 "nbformat": 4,
 "nbformat_minor": 5
}
