{
 "cells": [
  {
   "cell_type": "code",
   "execution_count": 2,
   "id": "ed12a415-a705-45ce-b348-559f28a5a5f4",
   "metadata": {},
   "outputs": [
    {
     "data": {
      "text/plain": [
       "{5, 6, 7, 8, 9}"
      ]
     },
     "execution_count": 2,
     "metadata": {},
     "output_type": "execute_result"
    }
   ],
   "source": [
    "a = [5, 6, 7, 7, 7, 8, 9, 9]\n",
    "b= set(a)\n",
    "b"
   ]
  },
  {
   "cell_type": "code",
   "execution_count": 3,
   "id": "55843e40-8c2f-4848-82bc-4ae7020f843e",
   "metadata": {},
   "outputs": [
    {
     "data": {
      "text/plain": [
       "{5, 6}"
      ]
     },
     "execution_count": 3,
     "metadata": {},
     "output_type": "execute_result"
    }
   ],
   "source": [
    "c = {3, 4, 5, 6}\n",
    "b&c"
   ]
  },
  {
   "cell_type": "code",
   "execution_count": 4,
   "id": "df6dedc8-f314-45c5-ae02-1996ea297f7a",
   "metadata": {},
   "outputs": [
    {
     "data": {
      "text/plain": [
       "9"
      ]
     },
     "execution_count": 4,
     "metadata": {},
     "output_type": "execute_result"
    }
   ],
   "source": [
    "max(a)"
   ]
  },
  {
   "cell_type": "code",
   "execution_count": 5,
   "id": "e72baa4e-9441-4f39-bd3c-96ffb04570e2",
   "metadata": {},
   "outputs": [
    {
     "data": {
      "text/plain": [
       "3.71"
      ]
     },
     "execution_count": 5,
     "metadata": {},
     "output_type": "execute_result"
    }
   ],
   "source": [
    "max(1.2, 3.71, 1.15)"
   ]
  },
  {
   "cell_type": "code",
   "execution_count": 6,
   "id": "84ed4a8f-2dbf-446b-b8a6-32897f40c9b4",
   "metadata": {},
   "outputs": [
    {
     "data": {
      "text/plain": [
       "58"
      ]
     },
     "execution_count": 6,
     "metadata": {},
     "output_type": "execute_result"
    }
   ],
   "source": [
    "sum(a)"
   ]
  },
  {
   "cell_type": "code",
   "execution_count": 7,
   "id": "31d9b1a6-7f41-40f6-abd9-b283317848c5",
   "metadata": {},
   "outputs": [
    {
     "data": {
      "text/plain": [
       "19"
      ]
     },
     "execution_count": 7,
     "metadata": {},
     "output_type": "execute_result"
    }
   ],
   "source": [
    "sum(set([1, 1, 2, 3, 5, 8]))"
   ]
  },
  {
   "cell_type": "code",
   "execution_count": 10,
   "id": "247ac8c0-f0e2-4764-9fc6-4a251cd0d54d",
   "metadata": {},
   "outputs": [
    {
     "name": "stdout",
     "output_type": "stream",
     "text": [
      "Not Divisible by 2\n"
     ]
    }
   ],
   "source": [
    "x = 3\n",
    "if x % 2 == 0:\n",
    "    print(\"Divisible by 2\")\n",
    "else:\n",
    "    print(\"Not Divisible by 2\")"
   ]
  },
  {
   "cell_type": "code",
   "execution_count": 12,
   "id": "f716ad15-baba-4984-a069-3fe340872e2c",
   "metadata": {},
   "outputs": [
    {
     "name": "stdout",
     "output_type": "stream",
     "text": [
      "Not divisible by 2, 3, 5, 7\n"
     ]
    }
   ],
   "source": [
    "x= 17\n",
    "if x % 2 == 0:\n",
    "    print(\"Divisible by 2\")\n",
    "elif x % 3 == 0:\n",
    "    print(\"Divisible by 3\")\n",
    "elif x % 5 == 0:\n",
    "    print(\"Divisible by 5\")\n",
    "elif x % 7 == 0:\n",
    "    print(\"Divisible by 7\")\n",
    "else:\n",
    "    print(\"Not divisible by 2, 3, 5, 7\")"
   ]
  },
  {
   "cell_type": "code",
   "execution_count": 22,
   "id": "ce2cdbdc-f99d-4f72-9bcd-a245bb65ab77",
   "metadata": {},
   "outputs": [
    {
     "ename": "NameError",
     "evalue": "name 'condition_is_true' is not defined",
     "output_type": "error",
     "traceback": [
      "\u001b[1;31m---------------------------------------------------------------------------\u001b[0m",
      "\u001b[1;31mNameError\u001b[0m                                 Traceback (most recent call last)",
      "Input \u001b[1;32mIn [22]\u001b[0m, in \u001b[0;36m<cell line: 1>\u001b[1;34m()\u001b[0m\n\u001b[1;32m----> 1\u001b[0m \u001b[38;5;28;01mif\u001b[39;00m condition_is_true:execute_commands\n\u001b[0;32m      2\u001b[0m \u001b[38;5;28;01melif\u001b[39;00m other_condition_is_true:\n\u001b[0;32m      3\u001b[0m     other_commands\n",
      "\u001b[1;31mNameError\u001b[0m: name 'condition_is_true' is not defined"
     ]
    }
   ],
   "source": [
    "if condition_is_true:execute_commands\n",
    "elif other_condition_is_true:\n",
    "    other_commands\n",
    "else:commands_to_run_if_none_is_true"
   ]
  },
  {
   "cell_type": "code",
   "execution_count": null,
   "id": "987b6ace-4a93-47f5-841c-58948b523c98",
   "metadata": {},
   "outputs": [],
   "source": [
    "x = 0\n",
    "while. x < 100:\n",
    "print(x)\n",
    "x = x +"
   ]
  }
 ],
 "metadata": {
  "kernelspec": {
   "display_name": "Python 3 (ipykernel)",
   "language": "python",
   "name": "python3"
  },
  "language_info": {
   "codemirror_mode": {
    "name": "ipython",
    "version": 3
   },
   "file_extension": ".py",
   "mimetype": "text/x-python",
   "name": "python",
   "nbconvert_exporter": "python",
   "pygments_lexer": "ipython3",
   "version": "3.9.12"
  }
 },
 "nbformat": 4,
 "nbformat_minor": 5
}
