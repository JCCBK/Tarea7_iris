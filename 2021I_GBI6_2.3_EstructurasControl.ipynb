{
 "cells": [
  {
   "cell_type": "markdown",
   "metadata": {},
   "source": [
    "### <center><h2> INGENIERÍA EN BIOTECNOLOGÍA</h2></center>\n",
    "# <center><h1 style=\"color:red\">GBI6 - BIOINFORMÁTICA</h1></center>\n",
    "\n",
    "<img src=\"https://www.ikiam.edu.ec/img/logo-ikiam-grey.png\" width=400 height=300 />\n",
    "\n",
    "# GBI6: ESTRUCTURAS DE CONTROL\n"
   ]
  },
  {
   "cell_type": "markdown",
   "metadata": {},
   "source": [
    "---\n",
    "\n",
    "# Estructuras de control\n",
    "\n",
    "* El código en un programa (o módulo) de Python se evalua de formas secuencial\n",
    "  * Comenzando por la primera línea\n",
    "  * Hasta el final o hasta que la ejecución se interrumpe\n",
    "* Pero hay mecanismos para modificar este flujo: Condicionales y bucles."
   ]
  },
  {
   "cell_type": "code",
   "execution_count": 1,
   "metadata": {
    "ExecuteTime": {
     "end_time": "2021-07-22T08:45:20.243270Z",
     "start_time": "2021-07-22T08:45:20.229305Z"
    }
   },
   "outputs": [
    {
     "name": "stdout",
     "output_type": "stream",
     "text": [
      "4\n",
      "5\n",
      "6\n",
      "7\n",
      "8\n",
      "103\n"
     ]
    }
   ],
   "source": [
    "a = 3\n",
    "print(a+1)\n",
    "print(a+2)\n",
    "print(a+3)\n",
    "print(a+4)\n",
    "print(a+5)\n",
    "print(a+100)\n"
   ]
  },
  {
   "cell_type": "code",
   "execution_count": 2,
   "metadata": {},
   "outputs": [
    {
     "name": "stdout",
     "output_type": "stream",
     "text": [
      "4\n",
      "6\n",
      "8\n",
      "10\n",
      "12\n"
     ]
    }
   ],
   "source": [
    "b = 3\n",
    "a = range(1,10,2)\n",
    "for i in a: \n",
    "    print(b + i)"
   ]
  },
  {
   "cell_type": "markdown",
   "metadata": {},
   "source": [
    "## Sentencia condicional: if\n",
    "\n",
    "* Los condicionales permiten ejecutar un bloque de código u otro, dependiendo de una condición.\n",
    "* La sentencia condicional es de la siguiente forma:\n",
    "```python\n",
    "if condicion1:\n",
    "    statement_1\n",
    "else:\n",
    "    statement_2\n",
    "```\n",
    "* Si `test1` es verdadero, se ejecturará `statement_1`. Si es falso, se ejecutará `statement_2`.\n",
    "* Se pueden añadir mas concionales:\n",
    "```python\n",
    "if test1:\n",
    "    statement_1\n",
    "elif test2:\n",
    "    statement_2\n",
    "elif test3:\n",
    "    statement_3\n",
    "else:\n",
    "    statement_4\n",
    "```\n",
    "* Tanto los `elif` como los `else` son opcionales.\n",
    "* El bloque de código a ejecutar viene determinado por la indentación del mismo\n",
    "* En Python no existen sentencias `case` o `switch`.\n",
    "\n",
    "### Condicionales y condiciones\n",
    "\n",
    "* Recordemos, en Python, casi cualquier cosa es verdadero, excepto:\n",
    "  * `[]` -> Lista vacía\n",
    "  * `{}` -> Diccionario vacío\n",
    "  * `\"\"` -> Cadena vacía\n",
    "  * `0`, `0.0`\n",
    "  * `False` \n",
    "  * `None`\n",
    "* Operadores booleanos: `not`, `and` y `or`.\n",
    "* Python usa _short-cirtuit_ operation:\n",
    "  * `a or b` solo evalúa `b` si `a` es `False`.\n",
    "  * `a and b` solo evalúa `b` si `a` es `True`.\n",
    "* `not` tiene menos prioridad que los operadores no booleanos, luego `not a == b` se interpreta como `not (a == b)`.\n",
    "\n",
    "| Operador | Significado |\n",
    "| --- | ---| \n",
    "| `<`  |\tstrictly less than | \n",
    "| `<=` | \tless than or equal |\n",
    "| `>`  | \tstrictly greater than |\n",
    "| `>=` |\tgreater than or equal |\n",
    "| `==` | \tequal |\n",
    "| `!=` | \tnot equal |\n",
    "| `is` | \tobject identity |\n",
    "| `is not` | \tnegated object identity |\n",
    "\n",
    "<img src=\"https://logicautem.files.wordpress.com/2016/03/tablas-de-verdad.jpg?w=1000\" width=800 height=550 />\n"
   ]
  },
  {
   "cell_type": "code",
   "execution_count": 4,
   "metadata": {
    "ExecuteTime": {
     "end_time": "2021-07-22T08:45:30.219358Z",
     "start_time": "2021-07-22T08:45:30.205394Z"
    }
   },
   "outputs": [
    {
     "name": "stdout",
     "output_type": "stream",
     "text": [
      "NO es divisible por 5\n"
     ]
    }
   ],
   "source": [
    "# Sin usar else\n",
    "x = 13\n",
    "y = 5\n",
    "if (x % y) != 0:\n",
    "    print(\"NO es divisible por 5\")\n",
    "else: \n",
    "    print(\"SI es divisible por 5\")"
   ]
  },
  {
   "cell_type": "code",
   "execution_count": 9,
   "metadata": {},
   "outputs": [
    {
     "name": "stdout",
     "output_type": "stream",
     "text": [
      "Hola\n"
     ]
    }
   ],
   "source": [
    "a = \"Hola\" # asignando el valor \"Hola\" a la variable X\n",
    "print(a)"
   ]
  },
  {
   "cell_type": "code",
   "execution_count": 11,
   "metadata": {},
   "outputs": [
    {
     "data": {
      "text/plain": [
       "True"
      ]
     },
     "execution_count": 11,
     "metadata": {},
     "output_type": "execute_result"
    }
   ],
   "source": [
    "a == \"Hola\"\n"
   ]
  },
  {
   "cell_type": "code",
   "execution_count": 8,
   "metadata": {
    "ExecuteTime": {
     "end_time": "2021-07-22T08:45:34.153959Z",
     "start_time": "2021-07-22T08:45:34.138002Z"
    }
   },
   "outputs": [
    {
     "name": "stdout",
     "output_type": "stream",
     "text": [
      "NO ES DIVISIBLE para 2 ni para 3\n"
     ]
    }
   ],
   "source": [
    "# Con else\n",
    "x = 19\n",
    "y = x % 2 # 1\n",
    "z = x % 3 # 0\n",
    "if (y == 0) & (z == 0): # ambas condiciones se deben cumplir\n",
    "    print(\"Divisible por 3 y por 2\")\n",
    "elif y == 0: \n",
    "    print(\"Solo es divisible por 2\")\n",
    "elif z == 0: \n",
    "    print(\"Solo es divisible por 3\")\n",
    "else:\n",
    "    print(\"NO ES DIVISIBLE para 2 ni para 3\")"
   ]
  },
  {
   "cell_type": "code",
   "execution_count": 16,
   "metadata": {},
   "outputs": [
    {
     "name": "stdout",
     "output_type": "stream",
     "text": [
      "Ingrese un numero:Hola\n",
      "HolaHolaHolaHolaHolaHola\n"
     ]
    }
   ],
   "source": [
    "x = input(\"Ingrese un numero:\")\n",
    "print(x*6)"
   ]
  },
  {
   "cell_type": "code",
   "execution_count": 13,
   "metadata": {
    "ExecuteTime": {
     "end_time": "2021-07-22T08:45:48.599975Z",
     "start_time": "2021-07-22T08:45:38.478608Z"
    }
   },
   "outputs": [
    {
     "name": "stdout",
     "output_type": "stream",
     "text": [
      "Dividendo: 22\n",
      "Divisor: 7\n",
      "22 no es divisible por  7 , porque el módulo es:  1\n"
     ]
    }
   ],
   "source": [
    "# variando al gusto del usuario el dividendo y el divisor\n",
    "# x: dividendo, y: divisor\n",
    "x = int(input(\"Dividendo: \"))\n",
    "y = int(input(\"Divisor: \"))\n",
    "z = x % y\n",
    "if z == 0:\n",
    "    print(x, \"es divisible por \", y, \", porque el módulo es: \", z)\n",
    "else: \n",
    "    print(x, \"no es divisible por \", y, \", porque el módulo es: \", z)\n"
   ]
  },
  {
   "cell_type": "code",
   "execution_count": 22,
   "metadata": {
    "ExecuteTime": {
     "end_time": "2021-07-22T08:46:12.861382Z",
     "start_time": "2021-07-22T08:46:05.150257Z"
    }
   },
   "outputs": [
    {
     "name": "stdout",
     "output_type": "stream",
     "text": [
      "Ingresa la secuencia de DNA: acgctag\n",
      "ACGCTAG\n",
      "7\n",
      "Secuencia muy corta para un primer\n"
     ]
    }
   ],
   "source": [
    "dna = input(\"Ingresa la secuencia de DNA: \" ).upper()\n",
    "print(dna)\n",
    "dna_size = len(dna)\n",
    "print(dna_size)\n",
    "\n",
    "if dna_size > 30: \n",
    "    print(\"Secuencia muy larga para un primer\")\n",
    "elif dna_size > 10:\n",
    "    if dna_size % 2 == 0:\n",
    "        print(\"Secuencia adecuada para un primer\")\n",
    "        print(\"Secuencia de longitud par\")\n",
    "    else: \n",
    "        print(\"Secuencia adecuada para un primer\")\n",
    "        print(\"Secuencia de longitud impar\")\n",
    "else:\n",
    "    print(\"Secuencia muy corta para un primer\")"
   ]
  },
  {
   "cell_type": "code",
   "execution_count": 5,
   "metadata": {},
   "outputs": [
    {
     "name": "stdout",
     "output_type": "stream",
     "text": [
      "Tipo cancer:ACC\n",
      "Estado:Intermedio\n",
      "Medicamento:No Disponible\n",
      "Adrenocortical carcinoma\n",
      "Urgente quimio tipo 2\n",
      "Ir a comprar\n"
     ]
    }
   ],
   "source": [
    "# Evalue solamente con ACC, LCML, KIRP\n",
    "\n",
    "cancer_type = input(\"Tipo cancer:\")\n",
    "estado = input(\"Estado:\")\n",
    "bodega = input(\"Medicamento:\")\n",
    "if cancer_type == \"ACC\":\n",
    "    print(\"Adrenocortical carcinoma\")\n",
    "    if estado == \"Inicial\":\n",
    "        print(\"Urgente biopsia y quimio\")\n",
    "    if estado == \"Intermedio\":\n",
    "        print(\"Urgente quimio tipo 2\")\n",
    "        if bodega == \"Disponible\":\n",
    "            print(\"Retirar en farmacia\")\n",
    "        else: \n",
    "            print(\"Ir a comprar\")\n",
    "    else:\n",
    "        print(\"Comunicar al paciente que su estado es avanzado\")\n",
    "elif cancer_type == \"LCML\":\n",
    "    print(\"Chronic Myelogenous Leukemia\")\n",
    "elif cancer_type == \"KIRP\": \n",
    "    print(\"Kidney renal papillary cell carcinoma\")\n",
    "else: \n",
    "    print(\"Other cancer type\")"
   ]
  },
  {
   "cell_type": "markdown",
   "metadata": {},
   "source": [
    "### Inserciones de valores\n",
    "* `%` define el lugar donde va la variable\n",
    "* `%1d` define que en esa posición se encuentra un número dígito `entero`\n",
    "* `%3.2f` define que en esa posición se encuentra un número decimal, con dos decimales\n",
    "* `%2.3E` define que en esa posición se encuentra un que va a tener una notacion científica con 3 cifras significativas"
   ]
  },
  {
   "cell_type": "code",
   "execution_count": 10,
   "metadata": {},
   "outputs": [
    {
     "name": "stdout",
     "output_type": "stream",
     "text": [
      "Dividendo: 15\n",
      "Divisor1: 4\n",
      "Divisor2: 3\n",
      "15.00 Divisible para 3\n"
     ]
    }
   ],
   "source": [
    "x = int(input(\"Dividendo: \"))\n",
    "y1 = int(input(\"Divisor1: \"))\n",
    "y2 = float(input(\"Divisor2: \"))\n",
    "z = x / y2\n",
    "\n",
    "if x % y1 == 0:\n",
    "    print(\"%1.1f Divisible para %1d\" %(x, y1))\n",
    "elif x % y2 == 0:\n",
    "    print(\"%1.2f Divisible para %1d\" %(x, y2))\n",
    "else:\n",
    "    print(\"%1d no es divisible para %1d, la división resulta en %0.1f\" % (x, y2, z))\n",
    "    \n"
   ]
  },
  {
   "cell_type": "markdown",
   "metadata": {},
   "source": [
    "### Inserciones de texto\n",
    "* `{0}, {1}, {}` define el lugar donde va un texto dependiente de la posición en el tuple.\n",
    "* `{otro}` indica que se ha definido el nombre del texto que va en esa posición.  "
   ]
  },
  {
   "cell_type": "code",
   "execution_count": 16,
   "metadata": {},
   "outputs": [
    {
     "name": "stdout",
     "output_type": "stream",
     "text": [
      "Biomolécula: RNA\n",
      "Nivel Expresion:5\n",
      "En el ARN, los nuclétidos son A: Adenina, Uracilo, G: Guanina, C:Citosina, con un nivel de expresion de 5 copias\n"
     ]
    }
   ],
   "source": [
    "x = input(\"Biomolécula: \" )\n",
    "t = int(input(\"Nivel Expresion:\"))\n",
    "nuc = [\"A: Adenina\", \"T: Timina\", \"G: Guanina\", \"C:Citosina\"]\n",
    "if x == \"DNA\": \n",
    "    print('En el ADN, los nuclétidos son {1}, {0}, {2}, {3}'.format(nuc[0], nuc[1], nuc[2], nuc[3]) )\n",
    "elif x == \"RNA\": \n",
    "    print('En el ARN, los nuclétidos son {0}, {otro}, {1}, {2}, con un nivel de expresion de %1d copias'.format(\"A: Adenina\", \"G: Guanina\", \"C:Citosina\", otro=\"Uracilo\") %(t))\n",
    "else: \n",
    "    print(\"Es una biomolécula diferente al ADN o ARN\")"
   ]
  },
  {
   "cell_type": "code",
   "execution_count": 34,
   "metadata": {},
   "outputs": [
    {
     "name": "stdout",
     "output_type": "stream",
     "text": [
      "La nota 4.5 está en el registro\n",
      "REPRUEBA\n"
     ]
    }
   ],
   "source": [
    "registro = [7, 7.5, 4.5, 10, 8, 6.3]\n",
    "\n",
    "nota = 4.5\n",
    "\n",
    "#Primer bloque\n",
    "if nota in registro:\n",
    "    print(\"La nota\", nota, \"está en el registro\")\n",
    "else:\n",
    "    print(\"La nota\", nota, \"no está en el registro, INGRESAR al registro\")\n",
    "\n",
    "#Segundo bloque\n",
    "if nota < 6:\n",
    "    print(\"REPRUEBA\")\n",
    "elif nota < 8: \n",
    "    print (\"Aprueba BUENO\")\n",
    "elif nota < 9: \n",
    "    print (\"Aprueba MUY BUENO\")\n",
    "else:\n",
    "    print (\"Aprueba EXCELENTE\")"
   ]
  },
  {
   "cell_type": "code",
   "execution_count": 34,
   "metadata": {},
   "outputs": [
    {
     "name": "stdout",
     "output_type": "stream",
     "text": [
      "Variable   Type     Data/Info\n",
      "-----------------------------\n",
      "a          str      Hola\n",
      "dna        str      atcg\n",
      "dna_size   int      4\n",
      "nuc        list     n=4\n",
      "t          int      5\n",
      "x          str      DNA\n",
      "y          str      8\n",
      "y1         int      7\n",
      "y2         float    3.0\n",
      "z          float    8.333333333333334\n"
     ]
    }
   ],
   "source": [
    "whos"
   ]
  },
  {
   "cell_type": "markdown",
   "metadata": {},
   "source": [
    "## Bucles\n",
    "\n",
    "Los **bucles** o ciclos son **modificadores de flujo** de un programa. Estos son utilizado para repetir un fragmento de código varias veces. Por ejemplo: \n",
    "\n",
    "- Iterar a través de todos los archivos en un directorio, \n",
    "- Iterar sobre todos los elementos de una lista, \n",
    "- Iterar sobre todas las repeticiones de un experimento. \n",
    "\n",
    "Python está equipado con dos formas de bucle: `for` oara iterar o reccorrer sobre los elementos de una secuencia y `while` que se usa para repetir un fragmento de código siempre que se cumpla la condición especificada. \n",
    "\n",
    "* Los bucles (`for` y `while`) se utilizan para ejecutar un bloque de código un número determinado de veces.\n",
    "* Se puede salir de un bucle mediante la sentencia `break`.\n",
    "* Se puede continuar a la siguiente iteración con `continue`\n",
    "\n"
   ]
  },
  {
   "cell_type": "markdown",
   "metadata": {},
   "source": [
    "### Bucles: for\n",
    "\n",
    "* Un bucle for se utiliza para iterar sobre un _iterable_ (secuencia).\n",
    "* Diferencia con otros lenguajes donde se itera siempre sobre una secuencia de números.\n",
    "* Se ejecuta el bloque de código correspondiente para todos los elementos del iterable.\n",
    "* Puede tener una setencia `else`, que se ejecuta cuando el bucle termina su secuencia.\n",
    "* Sintaxis:\n",
    "```python\n",
    "for item in sequence:\n",
    "    statement_1\n",
    "else:\n",
    "    statement_2\n",
    "```"
   ]
  },
  {
   "cell_type": "code",
   "execution_count": 32,
   "metadata": {},
   "outputs": [
    {
     "name": "stdout",
     "output_type": "stream",
     "text": [
      "Hola que tal GBI6 : tiene    18 caracteres Angiely\n",
      "la clase inicia a las : tiene    22 caracteres Angiely\n",
      "17: tiene     2 caracteres Angiely\n",
      "termina a las : tiene    14 caracteres Angiely\n",
      "19: tiene     2 caracteres Angiely\n",
      "True: tiene     4 caracteres Angiely\n",
      "('a', 'b'): tiene    10 caracteres Angiely\n",
      "\n",
      "******\tHemos terminado de procesar\n"
     ]
    }
   ],
   "source": [
    "# Imprimir elemento por elemento\n",
    "lista = [\"Hola que tal GBI6 \", \"la clase inicia a las \", 17, \n",
    "         \"termina a las \", 19, True, (\"a\", \"b\")]\n",
    "otro = \"Angiely\"\n",
    "for gato in lista:\n",
    "    car = len(str(gato))\n",
    "    print(\"{0}: tiene %5d caracteres {1}\".format(gato, otro) %(car))\n",
    "else:\n",
    "    print(\"\\n******\\tHemos terminado de procesar\")"
   ]
  },
  {
   "cell_type": "code",
   "execution_count": 33,
   "metadata": {},
   "outputs": [
    {
     "name": "stdout",
     "output_type": "stream",
     "text": [
      "range(0, 7)\n",
      "Hola que tal GBI6 \n",
      "la clase inicia a las \n",
      "17\n",
      "termina a las \n",
      "19\n",
      "True\n",
      "('a', 'b')\n"
     ]
    }
   ],
   "source": [
    "print(range(len(lista)))\n",
    "for i in range(len(lista)): # i: indice de posicion \n",
    "    print(lista[i])"
   ]
  },
  {
   "cell_type": "code",
   "execution_count": 91,
   "metadata": {},
   "outputs": [
    {
     "name": "stdout",
     "output_type": "stream",
     "text": [
      "H\n",
      "o\n",
      "l\n",
      "a\n",
      " \n",
      "G\n",
      "B\n",
      "I\n",
      "6\n",
      "\n",
      "******\n",
      "Aquí termina el bucle\n"
     ]
    }
   ],
   "source": [
    "# Imprimir elementos de un texto largo \n",
    "saludo = \"Hola GBI6\"\n",
    "\n",
    "for c in saludo:\n",
    "    print(c)\n",
    "else:\n",
    "    print(\"\\n******\\nAquí termina el bucle\")"
   ]
  },
  {
   "cell_type": "code",
   "execution_count": 40,
   "metadata": {},
   "outputs": [
    {
     "name": "stdout",
     "output_type": "stream",
     "text": [
      "Secuencia ATCCGAGTAG tiene    50 por ciento de GC\n",
      "Secuencia ATCGAGCGATCATT tiene    42 por ciento de GC\n",
      "Secuencia AATCGCGCGGATATA tiene    46 por ciento de GC\n",
      "[['ATCCGAGTAGATCCGAGTAG', 50.0], ['ATCGAGCGATCATTATCGAGCGATCATT', 42.86], ['AATCGCGCGGATATAAATCGCGCGGATATA', 46.67]]\n"
     ]
    }
   ],
   "source": [
    "# Guardar luego de procesar\n",
    "\n",
    "seqs = [\"ATCcgagtaG\", \"aTcgagcgatcatT\", \"aatcgcgcggatata\"]\n",
    "\n",
    "nuc2upper = []\n",
    "for seq in seqs:\n",
    "    short_seq = seq.upper()\n",
    "    gc = 100*(short_seq.count(\"C\") + short_seq.count(\"G\"))/len(short_seq)\n",
    "    print(\"Secuencia {0} tiene %5d por ciento de GC\".format(short_seq) %(gc)) # format es para agregar el texto de secuencia \n",
    "    nuc2upper.append([short_seq*2, round(gc, 2)])\n",
    "\n",
    "print(nuc2upper)"
   ]
  },
  {
   "cell_type": "code",
   "execution_count": 10,
   "metadata": {},
   "outputs": [
    {
     "data": {
      "text/plain": [
       "dict_items([(0, 'a'), (1, 'b'), (2, 'c')])"
      ]
     },
     "execution_count": 10,
     "metadata": {},
     "output_type": "execute_result"
    }
   ],
   "source": [
    "# Accediendo a la inforación de diccionarios\n",
    "\n",
    "z = {0: \"a\", 1:\"b\", 2:\"c\"}\n",
    "z.items() # items crea un par ordenado a partir de un diccionario "
   ]
  },
  {
   "cell_type": "code",
   "execution_count": 11,
   "metadata": {},
   "outputs": [
    {
     "name": "stdout",
     "output_type": "stream",
     "text": [
      "[0, 1, 2]\n",
      "['a', 'b', 'c']\n"
     ]
    }
   ],
   "source": [
    "keys = []\n",
    "values = [] # traduccion o \n",
    "\n",
    "for (key, val) in z.items(): # esta agragando z a \n",
    "    keys.append(key)# append para agregar los letras \n",
    "    values.append(val)# apped para crear los numeros  \n",
    "\n",
    "print(keys)\n",
    "print(values)"
   ]
  },
  {
   "cell_type": "code",
   "execution_count": 45,
   "metadata": {},
   "outputs": [
    {
     "name": "stdout",
     "output_type": "stream",
     "text": [
      "['LAML', 'ACC']\n",
      "['Acute Myeloid Leukemia', 'Adrenocortical carcinoma']\n"
     ]
    }
   ],
   "source": [
    "cancers = {\n",
    "    \"LAML\": \"Acute Myeloid Leukemia\",\n",
    "    \"ACC\": \"Adrenocortical carcinoma\"\n",
    "}\n",
    "\n",
    "abrev = []\n",
    "completo = []\n",
    "\n",
    "for (key, val) in cancers.items():\n",
    "    abrev.append(key)\n",
    "    completo.append(val)\n",
    "\n",
    "print(abrev)\n",
    "print(completo)\n",
    "\n",
    "# Diccionario de codones: https://gist.github.com/taoliu/9799831"
   ]
  },
  {
   "cell_type": "code",
   "execution_count": 12,
   "metadata": {},
   "outputs": [],
   "source": [
    "codon_dictionary = {\n",
    "    'TCA' : 'S',    # Serine\n",
    "    'TCC' : 'S',    # Serine\n",
    "    'TCG' : 'S',    # Serine\n",
    "    'TCT' : 'S',    # Serine\n",
    "    'TTC' : 'F',    # Phenylalanine\n",
    "    'TTT' : 'F',    # Phenylalanine\n",
    "    'TTA' : 'L',    # Leucine\n",
    "    'TTG' : 'L',    # Leucine\n",
    "    'TAC' : 'Y',    # Tyrosine\n",
    "    'TAT' : 'Y',    # Tyrosine\n",
    "    'TAA' : '_',    # Stop\n",
    "    'TAG' : '_',    # Stop\n",
    "    'TGC' : 'C',    # Cysteine\n",
    "    'TGT' : 'C',    # Cysteine\n",
    "    'TGA' : '_',    # Stop\n",
    "    'TGG' : 'W',    # Tryptophan\n",
    "    'CTA' : 'L',    # Leucine\n",
    "    'CTC' : 'L',    # Leucine\n",
    "    'CTG' : 'L',    # Leucine\n",
    "    'CTT' : 'L',    # Leucine\n",
    "    'CCA' : 'P',    # Proline\n",
    "    'CCC' : 'P',    # Proline\n",
    "    'CCG' : 'P',    # Proline\n",
    "    'CCT' : 'P',    # Proline\n",
    "    'CAC' : 'H',    # Histidine\n",
    "    'CAT' : 'H',    # Histidine\n",
    "    'CAA' : 'Q',    # Glutamine\n",
    "    'CAG' : 'Q',    # Glutamine\n",
    "    'CGA' : 'R',    # Arginine\n",
    "    'CGC' : 'R',    # Arginine\n",
    "    'CGG' : 'R',    # Arginine\n",
    "    'CGT' : 'R',    # Arginine\n",
    "    'ATA' : 'I',    # Isoleucine\n",
    "    'ATC' : 'I',    # Isoleucine\n",
    "    'ATT' : 'I',    # Isoleucine\n",
    "    'ATG' : 'M',    # Methionine\n",
    "    'ACA' : 'T',    # Threonine\n",
    "    'ACC' : 'T',    # Threonine\n",
    "    'ACG' : 'T',    # Threonine\n",
    "    'ACT' : 'T',    # Threonine\n",
    "    'AAC' : 'N',    # Asparagine\n",
    "    'AAT' : 'N',    # Asparagine\n",
    "    'AAA' : 'K',    # Lysine\n",
    "    'AAG' : 'K',    # Lysine\n",
    "    'AGC' : 'S',    # Serine\n",
    "    'AGT' : 'S',    # Serine\n",
    "    'AGA' : 'R',    # Arginine\n",
    "    'AGG' : 'R',    # Arginine\n",
    "    'GTA' : 'V',    # Valine\n",
    "    'GTC' : 'V',    # Valine\n",
    "    'GTG' : 'V',    # Valine\n",
    "    'GTT' : 'V',    # Valine\n",
    "    'GCA' : 'A',    # Alanine\n",
    "    'GCC' : 'A',    # Alanine\n",
    "    'GCG' : 'A',    # Alanine\n",
    "    'GCT' : 'A',    # Alanine\n",
    "    'GAC' : 'D',    # Aspartic Acid\n",
    "    'GAT' : 'D',    # Aspartic Acid\n",
    "    'GAA' : 'E',    # Glutamic Acid\n",
    "    'GAG' : 'E',    # Glutamic Acid\n",
    "    'GGA' : 'G',    # Glycine\n",
    "    'GGC' : 'G',    # Glycine\n",
    "    'GGG' : 'G',    # Glycine\n",
    "    'GGT' : 'G',    # Glycine\n",
    "    }"
   ]
  },
  {
   "cell_type": "code",
   "execution_count": 13,
   "metadata": {},
   "outputs": [
    {
     "data": {
      "text/plain": [
       "dict_items([('TCA', 'S'), ('TCC', 'S'), ('TCG', 'S'), ('TCT', 'S'), ('TTC', 'F'), ('TTT', 'F'), ('TTA', 'L'), ('TTG', 'L'), ('TAC', 'Y'), ('TAT', 'Y'), ('TAA', '_'), ('TAG', '_'), ('TGC', 'C'), ('TGT', 'C'), ('TGA', '_'), ('TGG', 'W'), ('CTA', 'L'), ('CTC', 'L'), ('CTG', 'L'), ('CTT', 'L'), ('CCA', 'P'), ('CCC', 'P'), ('CCG', 'P'), ('CCT', 'P'), ('CAC', 'H'), ('CAT', 'H'), ('CAA', 'Q'), ('CAG', 'Q'), ('CGA', 'R'), ('CGC', 'R'), ('CGG', 'R'), ('CGT', 'R'), ('ATA', 'I'), ('ATC', 'I'), ('ATT', 'I'), ('ATG', 'M'), ('ACA', 'T'), ('ACC', 'T'), ('ACG', 'T'), ('ACT', 'T'), ('AAC', 'N'), ('AAT', 'N'), ('AAA', 'K'), ('AAG', 'K'), ('AGC', 'S'), ('AGT', 'S'), ('AGA', 'R'), ('AGG', 'R'), ('GTA', 'V'), ('GTC', 'V'), ('GTG', 'V'), ('GTT', 'V'), ('GCA', 'A'), ('GCC', 'A'), ('GCG', 'A'), ('GCT', 'A'), ('GAC', 'D'), ('GAT', 'D'), ('GAA', 'E'), ('GAG', 'E'), ('GGA', 'G'), ('GGC', 'G'), ('GGG', 'G'), ('GGT', 'G')])"
      ]
     },
     "execution_count": 13,
     "metadata": {},
     "output_type": "execute_result"
    }
   ],
   "source": [
    "codon_dictionary.items()# para traduccion me sirve la forma orioginal del diccionario con los aminoacidos "
   ]
  },
  {
   "cell_type": "code",
   "execution_count": null,
   "metadata": {},
   "outputs": [],
   "source": [
    "codon_dictionary"
   ]
  },
  {
   "cell_type": "code",
   "execution_count": 19,
   "metadata": {},
   "outputs": [
    {
     "name": "stdout",
     "output_type": "stream",
     "text": [
      "ATG\n",
      "GCG\n",
      "GTC\n",
      "GCC\n",
      "TCG\n",
      "GAA\n",
      "AAG\n",
      "CTG\n",
      "TTC\n",
      "CTG\n",
      "ATC\n",
      "TAT\n",
      "ATC\n",
      "GAC\n",
      "GAG\n",
      "GTT\n",
      "TCG\n",
      "TCC\n",
      "C C\n"
     ]
    },
    {
     "ename": "KeyError",
     "evalue": "'C C'",
     "output_type": "error",
     "traceback": [
      "\u001b[1;31m---------------------------------------------------------------------------\u001b[0m",
      "\u001b[1;31mKeyError\u001b[0m                                  Traceback (most recent call last)",
      "Input \u001b[1;32mIn [19]\u001b[0m, in \u001b[0;36m<cell line: 4>\u001b[1;34m()\u001b[0m\n\u001b[0;32m      8\u001b[0m         \u001b[38;5;28;01mbreak\u001b[39;00m\n\u001b[0;32m      9\u001b[0m     \u001b[38;5;28mprint\u001b[39m(codon)\n\u001b[1;32m---> 10\u001b[0m     amac \u001b[38;5;241m=\u001b[39m \u001b[43mcodon_dictionary\u001b[49m\u001b[43m[\u001b[49m\u001b[43mcodon\u001b[49m\u001b[43m]\u001b[49m\u001b[38;5;66;03m# cambiar por un código\u001b[39;00m\n\u001b[0;32m     12\u001b[0m     peptido \u001b[38;5;241m+\u001b[39m\u001b[38;5;241m=\u001b[39m amac  \u001b[38;5;66;03m#equivale al append \u001b[39;00m\n\u001b[0;32m     13\u001b[0m \u001b[38;5;28mprint\u001b[39m(peptido)\n",
      "\u001b[1;31mKeyError\u001b[0m: 'C C'"
     ]
    }
   ],
   "source": [
    "seq = \"atggccgaagcgctgaacgtctcccccgcctatctctcggcgctcgaacatggcaagcgcggtctgccgacattcgatctgctgcagcgcatcgccggctatttcaacatcatctgggacgaggccgagg aactgttcct gctcgcccgt tcctccgacc ctcgggtcgt catcgacatcgggcctgc cgccggaata taccgaattc gccaaccggc tggcccggcg gatccgcaagcttgacagcg ccgagatcgc ccggttatcc gctattctcg aaaatggcgg caaaggtgacggaaaagcgt cataa\"\n",
    "seq1= seq.upper()\n",
    "peptido = \"\"\n",
    "for i in range(0, len(seq1), 3): # cada uno de los indices de las secuencias \n",
    "    i = i*3 # escojer cada tres \n",
    "    codon = seq1[i:i+3]# va de 0 hasta 0+3 \n",
    "    if len(codon) == 0:# lo necesito al if \n",
    "        break\n",
    "    print(codon)\n",
    "    amac = codon_dictionary[codon]# cambiar por un código\n",
    "    \n",
    "    peptido += amac  #equivale al append \n",
    "print(peptido)"
   ]
  },
  {
   "cell_type": "code",
   "execution_count": 75,
   "metadata": {},
   "outputs": [
    {
     "name": "stdout",
     "output_type": "stream",
     "text": [
      "0\n",
      "3\n",
      "6\n",
      "9\n",
      "12\n",
      "15\n",
      "18\n",
      "21\n",
      "24\n",
      "27\n",
      "30\n",
      "33\n",
      "36\n",
      "39\n",
      "42\n",
      "45\n",
      "48\n",
      "51\n",
      "54\n",
      "57\n",
      "60\n"
     ]
    }
   ],
   "source": [
    "for i in range(len(seq)): \n",
    "    print(i*3)"
   ]
  },
  {
   "cell_type": "code",
   "execution_count": 49,
   "metadata": {},
   "outputs": [
    {
     "data": {
      "text/plain": [
       "'AC'"
      ]
     },
     "execution_count": 49,
     "metadata": {},
     "output_type": "execute_result"
    }
   ],
   "source": []
  },
  {
   "cell_type": "code",
   "execution_count": 55,
   "metadata": {},
   "outputs": [
    {
     "name": "stdout",
     "output_type": "stream",
     "text": [
      "-1\n",
      "0\n",
      "Hemos encotntrado que 0 es divisible por dos\n"
     ]
    }
   ],
   "source": [
    "lista = [-1, 0, 1, 2, 3, 4, 5, 6, 7, 8, 9, 10]\n",
    "for num in lista:\n",
    "    print(num)\n",
    "    if num % 2 == 0:\n",
    "        print(\"Hemos encotntrado que %1d es divisible por dos\" %(num))\n",
    "        break"
   ]
  },
  {
   "cell_type": "code",
   "execution_count": 60,
   "metadata": {},
   "outputs": [
    {
     "data": {
      "text/plain": [
       "array([2.00000e+00, 1.50000e+00, 6.50000e+00, 5.50000e+00, 4.91000e+02,\n",
       "       1.64470e+04, 2.33865e+04])"
      ]
     },
     "execution_count": 60,
     "metadata": {},
     "output_type": "execute_result"
    }
   ],
   "source": [
    "lista2 = [4,3, 13, 11, 982, 32894, 46773]\n",
    "x = np.array([4,3, 13, 11, 982, 32894, 46773])\n",
    "np.round(x/2, 1)"
   ]
  },
  {
   "cell_type": "code",
   "execution_count": 97,
   "metadata": {},
   "outputs": [
    {
     "name": "stdout",
     "output_type": "stream",
     "text": [
      "SI es divisible por 2\n",
      "NO es divisible por 2\n",
      "NO es divisible por 2\n",
      "NO es divisible por 2\n",
      "SI es divisible por 2\n",
      "SI es divisible por 2\n",
      "NO es divisible por 2\n"
     ]
    }
   ],
   "source": [
    "# generando vectores\n",
    "import numpy as np\n",
    "x = np.array([4,3, 13, 11, 982, 32894, 46773])\n",
    "for i in x: \n",
    "    if i % 2==0:\n",
    "        print(\"SI es divisible por 2\")\n",
    "    else:\n",
    "        print(\"NO es divisible por 2\")"
   ]
  },
  {
   "cell_type": "markdown",
   "metadata": {},
   "source": [
    "* Iterar sobre una secuencia *no* crea una copia de la secuencia.\n",
    "  * No es conveniente modificar la secuencia mientras se itera, podemos terminar en un bucle infinito.\n",
    "  * Es necesario crear una copia de la misma."
   ]
  },
  {
   "cell_type": "code",
   "execution_count": null,
   "metadata": {},
   "outputs": [],
   "source": [
    "# NO: Este código no termina nunca\n",
    "\n",
    "# lista = [\"Hola\", \"que\", \"tal\", \"GBI6\"]\n",
    "#\n",
    "#for word in lista:\n",
    "#    if word == \"Hola\":\n",
    "#        lista.insert(0, word)"
   ]
  },
  {
   "cell_type": "code",
   "execution_count": 7,
   "metadata": {},
   "outputs": [
    {
     "name": "stdout",
     "output_type": "stream",
     "text": [
      "['Hola']\n",
      "['Hola', 'Hola', 'que', 'tal', 'GBI6']\n"
     ]
    }
   ],
   "source": [
    "# SI: Este código si termina\n",
    "\n",
    "lista = [\"Hola\", \"que\", \"tal\", \"GBI6\"]\n",
    "lista2 = []\n",
    "for word in lista[:]:\n",
    "    if word == \"Hola\":\n",
    "        lista2.insert(0, word)\n",
    "print(lista2)\n",
    "\n",
    "# Este tambien\n",
    "lista = [\"Hola\", \"que\", \"tal\", \"GBI6\"]\n",
    "\n",
    "for word in list(lista):\n",
    "    if word == \"Hola\":\n",
    "        lista.insert(0, word)\n",
    "print(lista)"
   ]
  },
  {
   "cell_type": "markdown",
   "metadata": {},
   "source": [
    "* Hay [funciones interesantes en la librería estándar](https://docs.python.org/3.7/library/functions.html) para los bucles:\n",
    "  * `enumerate`\n",
    "  * `len`\n",
    "  * `max`, `min`\n",
    "  * `range`"
   ]
  },
  {
   "cell_type": "code",
   "execution_count": 91,
   "metadata": {},
   "outputs": [
    {
     "name": "stdout",
     "output_type": "stream",
     "text": [
      "ATCGAT___CTAGCT***CATCGGCCTTACTA\n"
     ]
    }
   ],
   "source": [
    "lista = [\"ATCGAT\", \"CTAGCT\", \"CATCG\", \"GCCTTACTA\"]\n",
    "\n",
    "for idx, word in enumerate(lista[:]):\n",
    "    if idx == 1:\n",
    "        lista.insert(1, \"___\")\n",
    "    if word == 'CTAGCT':\n",
    "        lista.insert(idx+2, \"***\")\n",
    "    #print(idx, word, len(word), word.upper())\n",
    "\n",
    "print(\"\".join(lista))"
   ]
  },
  {
   "cell_type": "markdown",
   "metadata": {},
   "source": [
    "### Función range\n",
    "\n",
    "Si se necesita iterar sobre una secuencia de números, es apropiado utilizar la función integrada range(), la cual genera progresiones aritméticas:\n",
    "    "
   ]
  },
  {
   "cell_type": "code",
   "execution_count": 9,
   "metadata": {},
   "outputs": [
    {
     "name": "stdout",
     "output_type": "stream",
     "text": [
      "0\n",
      "1\n",
      "2\n",
      "3\n",
      "4\n",
      "5\n"
     ]
    }
   ],
   "source": [
    "# salto de 1 entero\n",
    "for i in range(6):\n",
    "    print(i)"
   ]
  },
  {
   "cell_type": "code",
   "execution_count": 10,
   "metadata": {},
   "outputs": [
    {
     "name": "stdout",
     "output_type": "stream",
     "text": [
      "[10, 11, 12, 13, 14]\n",
      "[0, 3, 6, 9, 12]\n",
      "[0, 4, 8]\n",
      "[100, 90, 80, 70, 60, 50, 40, 30, 20, 10, 0, -10, -20, -30, -40, -50, -60, -70, -80, -90, -100]\n"
     ]
    }
   ],
   "source": [
    "# Secuencia entre dos valores \n",
    "print (list(range(10, 15)))\n",
    "\n",
    "# Secuencia entre dos valores con salto definido\n",
    "print(list(range(0, 13, 3)))\n",
    "print(list(range(0, 10, 4)))\n",
    "\n",
    "# Secuencia entre dos valores con salto definido\n",
    "print(list(range(100, -101, -10)))\n"
   ]
  },
  {
   "cell_type": "code",
   "execution_count": 109,
   "metadata": {},
   "outputs": [],
   "source": [
    "# help(range)"
   ]
  },
  {
   "cell_type": "code",
   "execution_count": 13,
   "metadata": {},
   "outputs": [
    {
     "name": "stdout",
     "output_type": "stream",
     "text": [
      "1\n",
      "16\n",
      "49\n",
      "100\n"
     ]
    }
   ],
   "source": [
    "# secuencia con operación \n",
    "for x in range(0, 10, 3):\n",
    "    print(x ** 2 + 2*x + 1)"
   ]
  },
  {
   "cell_type": "code",
   "execution_count": 20,
   "metadata": {},
   "outputs": [
    {
     "name": "stdout",
     "output_type": "stream",
     "text": [
      "0 DNA 3 A\n",
      "1 RNA 3 A\n",
      "2 Proteina 8 a\n",
      "3 Azúcares 8 s\n",
      "4 Grasas 6 s\n"
     ]
    }
   ],
   "source": [
    "a = ['DNA', 'RNA', 'Proteina', 'Azúcares', 'Grasas']\n",
    "for i in range(len(a)):\n",
    "    print(i, a[i], len(a[i]), a[i][-1])"
   ]
  },
  {
   "cell_type": "code",
   "execution_count": 21,
   "metadata": {},
   "outputs": [
    {
     "data": {
      "text/plain": [
       "[(0, 'DNA'), (1, 'RNA'), (2, 'Proteina'), (3, 'Azúcares'), (4, 'Grasas')]"
      ]
     },
     "execution_count": 21,
     "metadata": {},
     "output_type": "execute_result"
    }
   ],
   "source": [
    "list(enumerate(a)) # enumerate nos permite acceder por indice o por identificador "
   ]
  },
  {
   "cell_type": "markdown",
   "metadata": {},
   "source": [
    "### Función enumerate \n",
    "\n",
    "Para indicar los índices de los elementos de un texto o de una lista\n",
    "    "
   ]
  },
  {
   "cell_type": "code",
   "execution_count": 120,
   "metadata": {},
   "outputs": [
    {
     "data": {
      "text/plain": [
       "[(0, 'H'),\n",
       " (1, 'o'),\n",
       " (2, 'm'),\n",
       " (3, 'e'),\n",
       " (4, 'o'),\n",
       " (5, 's'),\n",
       " (6, 't'),\n",
       " (7, 'a'),\n",
       " (8, 's'),\n",
       " (9, 'i'),\n",
       " (10, 's')]"
      ]
     },
     "execution_count": 120,
     "metadata": {},
     "output_type": "execute_result"
    }
   ],
   "source": [
    "list(enumerate(\"Homeostasis\"))"
   ]
  },
  {
   "cell_type": "code",
   "execution_count": 19,
   "metadata": {},
   "outputs": [
    {
     "data": {
      "text/plain": [
       "[(0, 'Colonso'), (1, 15), (2, 'EC150102'), (3, 'Ikiam'), (4, True)]"
      ]
     },
     "execution_count": 19,
     "metadata": {},
     "output_type": "execute_result"
    }
   ],
   "source": [
    "z = [\"Colonso\", 15, \"EC150102\", \"Ikiam\", True]\n",
    "[len(str(elem))]\n"
   ]
  },
  {
   "cell_type": "code",
   "execution_count": 24,
   "metadata": {},
   "outputs": [
    {
     "name": "stdout",
     "output_type": "stream",
     "text": [
      "[0, 1, 2, 3, 4]\n",
      "['Colonso', 15, 'EC150102', 'Ikiam', True]\n"
     ]
    }
   ],
   "source": [
    "z = [\"Colonso\", 15, \"EC150102\", \"Ikiam\", True]\n",
    "indices = []\n",
    "valores = []\n",
    "for indice, valor in enumerate(z):\n",
    "    indices.append(indice)\n",
    "    valores.append(valor)\n",
    "    #print(\"indice: \" + str(indice) + \" valor: \" + str(valor))\n",
    "print(indices)\n",
    "print(valores)"
   ]
  },
  {
   "cell_type": "markdown",
   "metadata": {},
   "source": [
    "### List comprehension \n",
    "\n",
    "Cuando se plica la misma función a todos los elementos de una lista"
   ]
  },
  {
   "cell_type": "code",
   "execution_count": 22,
   "metadata": {},
   "outputs": [
    {
     "data": {
      "text/plain": [
       "[5.4, 7.7, 6.0, 7.0, 9.0, 5.6, 10.0, 6.2, 6.1]"
      ]
     },
     "execution_count": 22,
     "metadata": {},
     "output_type": "execute_result"
    }
   ],
   "source": [
    "# ajustando notas\n",
    "\n",
    "notas = [5, 7.2, 5.6, 6.5, 8.4, 5.2, 9.3, 5.8, 5.7]# funcion FOR i en la lista \n",
    "\n",
    "b = [ round(x*10/max(notas), 1) for x in notas]\n",
    "\n",
    "b"
   ]
  },
  {
   "cell_type": "markdown",
   "metadata": {},
   "source": [
    "## Bucles: while\n",
    "Los ciclos (o bucles) son modificadores importantes del flujo de un programa. Estos son\n",
    "utilizado para repetir un fragmento de código varias veces (posiblemente con ligeras variaciones).\n",
    "Los ejemplos incluyen iterar a través de todos los archivos en un directorio, todos los elementos\n",
    "inalista, y todo ello implica un experimento.\n",
    "Python está equipado con dos formas de bucle: while, que se usa para\n",
    "repetir un fragmento de código siempre que se cumpla la condición especificada, y para qué\n",
    "se utiliza para recorrer los elementos de una secuencia. Aquí hay unos ejemplos\n",
    "de bucles while:\n",
    "\n",
    "\n",
    "* Un bucle while se ejecuta mientras una condición determinada se cumpla siempre.\n",
    "* Puede tener una setencia `else`, que se ejecuta cuando la condición cambia a falso.\n",
    "* Su sintaxis es:\n",
    "```python\n",
    "while condicion:\n",
    "    statement\n",
    "else:\n",
    "    statement\n",
    "```\n",
    "* Se sale del bucle infinito con `Ctrl + C`"
   ]
  },
  {
   "cell_type": "code",
   "execution_count": 27,
   "metadata": {},
   "outputs": [
    {
     "name": "stdout",
     "output_type": "stream",
     "text": [
      "0\n",
      "1\n",
      "2\n",
      "3\n",
      "4\n",
      "5\n",
      "6\n",
      "7\n",
      "8\n",
      "9\n",
      "se termina el bucle while\n"
     ]
    }
   ],
   "source": [
    "# Imprimir números mientras\n",
    "x = 0\n",
    "while x < 10:# siempre hay que actualizar al x\n",
    "    print(x)\n",
    "    x = x +1\n",
    "else:\n",
    "    print(\"se termina el bucle while\")"
   ]
  },
  {
   "cell_type": "code",
   "execution_count": 26,
   "metadata": {},
   "outputs": [
    {
     "name": "stdout",
     "output_type": "stream",
     "text": [
      "2\n",
      "3\n",
      "5\n",
      "8\n",
      "13\n",
      "21\n",
      "34\n",
      "55\n",
      "89\n",
      "144\n"
     ]
    }
   ],
   "source": [
    "# Los números de Fibonacci \n",
    "a = 1\n",
    "b = 1\n",
    "c = 0\n",
    "while c < 100:\n",
    "    c = a + b\n",
    "    a = b\n",
    "    b = c\n",
    "    print(c)\n"
   ]
  },
  {
   "cell_type": "code",
   "execution_count": 37,
   "metadata": {},
   "outputs": [
    {
     "ename": "KeyboardInterrupt",
     "evalue": "",
     "output_type": "error",
     "traceback": [
      "\u001b[1;31m---------------------------------------------------------------------------\u001b[0m",
      "\u001b[1;31mKeyboardInterrupt\u001b[0m                         Traceback (most recent call last)",
      "Input \u001b[1;32mIn [37]\u001b[0m, in \u001b[0;36m<cell line: 3>\u001b[1;34m()\u001b[0m\n\u001b[0;32m      2\u001b[0m z\u001b[38;5;241m=\u001b[39m[]\n\u001b[0;32m      3\u001b[0m \u001b[38;5;28;01mwhile\u001b[39;00m x \u001b[38;5;241m<\u001b[39m \u001b[38;5;241m100\u001b[39m:\n\u001b[1;32m----> 4\u001b[0m     \u001b[38;5;28;01mif\u001b[39;00m \u001b[43mx\u001b[49m\u001b[38;5;241m%\u001b[39m\u001b[38;5;241m2\u001b[39m \u001b[38;5;241m==\u001b[39m \u001b[38;5;241m0\u001b[39m:\n\u001b[0;32m      5\u001b[0m         \u001b[38;5;28;01mcontinue\u001b[39;00m\n\u001b[0;32m      6\u001b[0m     y\u001b[38;5;241m=\u001b[39m x\u001b[38;5;241m*\u001b[39m\u001b[38;5;241m*\u001b[39m\u001b[38;5;241m3\u001b[39m\n",
      "\u001b[1;31mKeyboardInterrupt\u001b[0m: "
     ]
    }
   ],
   "source": [
    "x= 0\n",
    "z=[]\n",
    "while x < 100:\n",
    "    if x%2 == 0:\n",
    "        continue\n",
    "        y= x**3\n",
    "    z.append(y)\n",
    "    x= x + 10 # es el valor que va a tomar el x [10]\n",
    "print(z)"
   ]
  },
  {
   "cell_type": "code",
   "execution_count": 34,
   "metadata": {},
   "outputs": [],
   "source": [
    "# Bucle infinito\n",
    "a = True\n",
    "#while a:\n",
    "#    print(\"Bucle Infinito\")\n"
   ]
  },
  {
   "cell_type": "code",
   "execution_count": 3,
   "metadata": {},
   "outputs": [
    {
     "name": "stdout",
     "output_type": "stream",
     "text": [
      "15002 is divisible by 13\n"
     ]
    }
   ],
   "source": [
    "# Primer entero >= 15000 divisible por 13 \n",
    "x = 15000\n",
    "while x < 18000:\n",
    "    if x % 13 == 0:\n",
    "        print(str(x) + \" is divisible by 13\") # \n",
    "        break\n",
    "    x = x + 1"
   ]
  },
  {
   "cell_type": "code",
   "execution_count": 6,
   "metadata": {},
   "outputs": [
    {
     "name": "stdout",
     "output_type": "stream",
     "text": [
      "2\n",
      "4\n",
      "6\n",
      "8\n",
      "10\n",
      "12\n",
      "14\n",
      "16\n",
      "18\n",
      "20\n"
     ]
    }
   ],
   "source": [
    "# Lista de los 10 primeros números pares\n",
    "x = 0\n",
    "found = 0\n",
    "while found < 10:\n",
    "    x = x + 1\n",
    "    if x % 2 == 1:\n",
    "        continue\n",
    "    print(x)\n",
    "    found = found + 1"
   ]
  },
  {
   "cell_type": "code",
   "execution_count": null,
   "metadata": {},
   "outputs": [],
   "source": []
  },
  {
   "cell_type": "markdown",
   "metadata": {},
   "source": [
    "# Ejercicios\n",
    "\n",
    "## Bucle for\n",
    "\n",
    "* Escriba una instrucción que ordene las secuencias por su longitud: \n",
    "\n",
    "```python\n",
    "dna_seq = [\n",
    " 'ATAGCTGATCGTAGCTACGTACGATCG',\n",
    " 'CATCGTACATGC',\n",
    " 'TATGTGT',\n",
    " 'GCTGATCGTGACTGTAC',\n",
    " 'ACTGT'\n",
    "]\n",
    "```\n",
    "\n",
    "La respuesta esperada es: \n",
    "\n",
    "```python\n",
    "['ACTGT',     'TATGTGT',     'CATCGTACATGC',     'GCTGATCGTGACTGTAC',     'ATAGCTGATCGTAGCTACGTACGATCG']\n",
    "```\n"
   ]
  },
  {
   "cell_type": "code",
   "execution_count": null,
   "metadata": {},
   "outputs": [],
   "source": [
    "# Escribe aquí tu código\n",
    "\n",
    "\n",
    "\n"
   ]
  },
  {
   "cell_type": "markdown",
   "metadata": {},
   "source": [
    "## List comprehension\n",
    "\n",
    "Utilice el método de list comprehension para la fórmula de normalización de datos: \n",
    "<img src=\"https://3.bp.blogspot.com/-Y_PpEVlfZPM/XAZUruaebwI/AAAAAAAAC1E/whxCob3CHQAL4nQusOkwne1fFzu2ZZfjgCLcBGAs/s320/Post+1+no+1.jpg\" width=400 height=300 />\n",
    "\n",
    "\n",
    "La data a normalizar es: \n",
    "\n",
    "```python\n",
    "bpi_val = [2778,17999,54460,2911,79155,27115,84528,10982,6500,3954,57504,55967,7278,5687,5573,29922,7408,6597, 3297,64419,170575,3309,3189,7321,7329,4654,23568,24149,9775]\n",
    "```\n"
   ]
  },
  {
   "cell_type": "code",
   "execution_count": null,
   "metadata": {},
   "outputs": [],
   "source": [
    "# Escribe aquí tu código"
   ]
  },
  {
   "cell_type": "markdown",
   "metadata": {},
   "source": [
    "## Bucle while\n",
    "\n",
    "* Calcular la serie de Fibonacci utilizando un bucle while para los 20 primeros elementos\n",
    "* La serie de Fibonacci para el elemento N se obtiene mendiante la suma de N-1 y N-2."
   ]
  },
  {
   "cell_type": "code",
   "execution_count": null,
   "metadata": {},
   "outputs": [],
   "source": [
    "# Escribe aquí tu código\n",
    "\n",
    "\n",
    "\n"
   ]
  },
  {
   "cell_type": "markdown",
   "metadata": {},
   "source": [
    "# Errores y Excepciones \n",
    "\n",
    "Aunque las veremos más adelante, el interprete genera y lanza excepciones cuando se encuentra algún error. Por ahora, hay que distinguir al menos entre dos tipos de errores, `SyntaxError` y Excepciones.\n",
    "\n",
    "```python\n",
    "$ python3\n",
    "Python 3.6.6 (default, Jun 27 2018, 14:44:17) \n",
    "[GCC 8.1.0] on linux\n",
    "Type \"help\", \"copyright\", \"credits\" or \"license\" for more information.\n",
    ">>>  print(\"Hello World\")\n",
    "  File \"<stdin>\", line 1\n",
    "    print(\"Hello World\")\n",
    "    ^\n",
    "IndentationError: unexpected indent\n",
    ">>> print(Hello World)\n",
    "  File \"<stdin>\", line 1\n",
    "    print(Hello World)\n",
    "                    ^\n",
    "SyntaxError: invalid syntax\n",
    ">>> print(\"Hello World)\n",
    "  File \"<stdin>\", line 1\n",
    "    print(\"Hello World)\n",
    "                      ^\n",
    "SyntaxError: EOL while scanning string literal\n",
    "```\n",
    "\n",
    "## Algunos recursos\n",
    "\n",
    "* Documentación de Python\n",
    "  * [Python 2](https://docs.python.org/3/)\n",
    "    * [Python Tutorial](https://docs.python.org/2/tutorial/index.html)\n",
    "    * **[Python Library](https://docs.python.org/2/library/index.html)**: _keep this under your pillow_\n",
    "    * [Python Language Reference](https://docs.python.org/2/reference/index.html)\n",
    "  * [Python 3](https://docs.python.org/3/)\n",
    "    * [Python Tutorial](https://docs.python.org/3/tutorial/index.html)\n",
    "    * **[Python Library](https://docs.python.org/3/library/index.html)**: _keep this under your pillow_\n",
    "    * [Python Language Reference](https://docs.python.org/3/reference/index.html)\n",
    "* Python Enhancement Proposals.\n",
    "  * [PEP 8 -- Style Guide for Python Code](https://www.python.org/dev/peps/pep-0008/)"
   ]
  }
 ],
 "metadata": {
  "kernelspec": {
   "display_name": "Python 3 (ipykernel)",
   "language": "python",
   "name": "python3"
  },
  "language_info": {
   "codemirror_mode": {
    "name": "ipython",
    "version": 3
   },
   "file_extension": ".py",
   "mimetype": "text/x-python",
   "name": "python",
   "nbconvert_exporter": "python",
   "pygments_lexer": "ipython3",
   "version": "3.9.12"
  },
  "latex_envs": {
   "LaTeX_envs_menu_present": true,
   "autoclose": false,
   "autocomplete": true,
   "bibliofile": "biblio.bib",
   "cite_by": "apalike",
   "current_citInitial": 1,
   "eqLabelWithNumbers": true,
   "eqNumInitial": 1,
   "hotkeys": {
    "equation": "Ctrl-E",
    "itemize": "Ctrl-I"
   },
   "labels_anchors": false,
   "latex_user_defs": false,
   "report_style_numbering": false,
   "user_envs_cfg": false
  },
  "toc": {
   "base_numbering": 1,
   "nav_menu": {},
   "number_sections": true,
   "sideBar": true,
   "skip_h1_title": false,
   "title_cell": "Table of Contents",
   "title_sidebar": "Contents",
   "toc_cell": false,
   "toc_position": {
    "height": "calc(100% - 180px)",
    "left": "10px",
    "top": "150px",
    "width": "294.76px"
   },
   "toc_section_display": true,
   "toc_window_display": false
  },
  "varInspector": {
   "cols": {
    "lenName": 16,
    "lenType": 16,
    "lenVar": 40
   },
   "kernels_config": {
    "python": {
     "delete_cmd_postfix": "",
     "delete_cmd_prefix": "del ",
     "library": "var_list.py",
     "varRefreshCmd": "print(var_dic_list())"
    },
    "r": {
     "delete_cmd_postfix": ") ",
     "delete_cmd_prefix": "rm(",
     "library": "var_list.r",
     "varRefreshCmd": "cat(var_dic_list()) "
    }
   },
   "position": {
    "height": "609.4px",
    "left": "862.8px",
    "right": "20px",
    "top": "111px",
    "width": "318px"
   },
   "types_to_exclude": [
    "module",
    "function",
    "builtin_function_or_method",
    "instance",
    "_Feature"
   ],
   "window_display": false
  }
 },
 "nbformat": 4,
 "nbformat_minor": 4
}
