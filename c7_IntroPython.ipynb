{
 "cells": [
  {
   "cell_type": "markdown",
   "id": "eb826c87",
   "metadata": {},
   "source": [
    "# GBI6 BIOINFORMÁTICA\n",
    "## CLASE 7: introduccion a Python\n",
    "\n",
    "<img src=\"https://www.ikiam.edu.ec/img/logo-ikiam-grey.png\" width=200 height=150 />\n",
    "\n",
    "A continuación vamos a demostrar cómo se realiza una multiplicación utilizando las variables: \n",
    "\n",
    "1. **x** \n",
    "\n",
    "2. *y*\n",
    "\n",
    "3. z\n",
    "\n",
    "El producto se nota como $z = x_{1}*y_{1}^{x+y}$. \n",
    "\n",
    "Los términos se conocen como `multiplicandos`. "
   ]
  },
  {
   "cell_type": "code",
   "execution_count": 1,
   "id": "45b1d46f",
   "metadata": {},
   "outputs": [
    {
     "data": {
      "text/plain": [
       "20"
      ]
     },
     "execution_count": 1,
     "metadata": {},
     "output_type": "execute_result"
    }
   ],
   "source": [
    "x = 5\n",
    "y = 4\n",
    "x * y"
   ]
  },
  {
   "cell_type": "markdown",
   "id": "869f884d",
   "metadata": {},
   "source": [
    "Si **x** tien un valor de 5 e **y** tiene un valor de 4, su producto resultará en 20.\n"
   ]
  },
  {
   "cell_type": "code",
   "execution_count": null,
   "id": "2ca6c8dd",
   "metadata": {},
   "outputs": [],
   "source": []
  },
  {
   "cell_type": "markdown",
   "id": "fe393187",
   "metadata": {},
   "source": [
    "Otra celda de texto"
   ]
  },
  {
   "cell_type": "code",
   "execution_count": 12,
   "id": "c8d8565c",
   "metadata": {},
   "outputs": [
    {
     "data": {
      "text/plain": [
       "2"
      ]
     },
     "execution_count": 12,
     "metadata": {},
     "output_type": "execute_result"
    }
   ],
   "source": [
    "x = 7\n",
    "y = 3\n",
    "\n",
    "x//y"
   ]
  },
  {
   "cell_type": "code",
   "execution_count": 17,
   "id": "9dd6943a",
   "metadata": {},
   "outputs": [
    {
     "data": {
      "text/plain": [
       "True"
      ]
     },
     "execution_count": 17,
     "metadata": {},
     "output_type": "execute_result"
    }
   ],
   "source": [
    "(x != 3) | (y >= 3)"
   ]
  },
  {
   "cell_type": "markdown",
   "id": "2f458031",
   "metadata": {},
   "source": [
    "Los datos de ADN, ARN o pèptidos son texto o ```string```."
   ]
  },
  {
   "cell_type": "code",
   "execution_count": 19,
   "id": "de78538c",
   "metadata": {},
   "outputs": [
    {
     "data": {
      "text/plain": [
       "'ATCGATTGCTAGCTAGA'"
      ]
     },
     "execution_count": 19,
     "metadata": {},
     "output_type": "execute_result"
    }
   ],
   "source": [
    "seq1 = \"ATCGATTGCTAGCTAGA\"\n",
    "seq1"
   ]
  },
  {
   "cell_type": "code",
   "execution_count": 26,
   "id": "7eeb6220",
   "metadata": {},
   "outputs": [
    {
     "data": {
      "text/plain": [
       "'GATTGCTA'"
      ]
     },
     "execution_count": 26,
     "metadata": {},
     "output_type": "execute_result"
    }
   ],
   "source": [
    "start = 3\n",
    "end = 10\n",
    "seq1[start:end+1]"
   ]
  },
  {
   "cell_type": "code",
   "execution_count": 33,
   "id": "0344f82e",
   "metadata": {},
   "outputs": [
    {
     "data": {
      "text/plain": [
       "'AUCGAUUGCUAGCUAGA'"
      ]
     },
     "execution_count": 33,
     "metadata": {},
     "output_type": "execute_result"
    }
   ],
   "source": [
    "seq1.replace('T', 'U')"
   ]
  },
  {
   "cell_type": "code",
   "execution_count": 35,
   "id": "7c074a43",
   "metadata": {},
   "outputs": [
    {
     "data": {
      "text/plain": [
       "17"
      ]
     },
     "execution_count": 35,
     "metadata": {},
     "output_type": "execute_result"
    }
   ],
   "source": [
    "len(seq1)"
   ]
  },
  {
   "cell_type": "code",
   "execution_count": 43,
   "id": "aef456fe",
   "metadata": {},
   "outputs": [
    {
     "data": {
      "text/plain": [
       "41.18"
      ]
     },
     "execution_count": 43,
     "metadata": {},
     "output_type": "execute_result"
    }
   ],
   "source": [
    "nuc_c = seq1.count(\"C\")\n",
    "nuc_g = seq1.count(\"G\")\n",
    "len_seq1 = len(seq1)\n",
    "\n",
    "percent_GC = round(100*(nuc_c + nuc_g) / len_seq1, 4)\n"
   ]
  },
  {
   "cell_type": "code",
   "execution_count": 54,
   "id": "414b4de7",
   "metadata": {},
   "outputs": [
    {
     "data": {
      "text/plain": [
       "'ATCGATTGCTAG'"
      ]
     },
     "execution_count": 54,
     "metadata": {},
     "output_type": "execute_result"
    }
   ],
   "source": [
    "start = seq1.find(\"ATC\") # Codon de inicio\n",
    "end = seq1.find(\"TAG\") # Codon de final\n",
    "\n",
    "mrna = seq1[start : end + 3] \n",
    "mrna"
   ]
  },
  {
   "cell_type": "code",
   "execution_count": 58,
   "id": "d86d8e50",
   "metadata": {},
   "outputs": [
    {
     "data": {
      "text/plain": [
       "'***GATTGC,,,C,,,A'"
      ]
     },
     "execution_count": 58,
     "metadata": {},
     "output_type": "execute_result"
    }
   ],
   "source": [
    "dna_show = seq1.replace(\"ATC\", \"***\")\n",
    "dna_show = dna_show.replace(\"TAG\", \",,,\")\n",
    "dna_show"
   ]
  },
  {
   "cell_type": "code",
   "execution_count": 1,
   "id": "b44876c0",
   "metadata": {},
   "outputs": [
    {
     "ename": "NameError",
     "evalue": "name 'seq1' is not defined",
     "output_type": "error",
     "traceback": [
      "\u001b[1;31m---------------------------------------------------------------------------\u001b[0m",
      "\u001b[1;31mNameError\u001b[0m                                 Traceback (most recent call last)",
      "Input \u001b[1;32mIn [1]\u001b[0m, in \u001b[0;36m<cell line: 1>\u001b[1;34m()\u001b[0m\n\u001b[1;32m----> 1\u001b[0m seq1_temp \u001b[38;5;241m=\u001b[39m \u001b[43mseq1\u001b[49m\u001b[38;5;241m.\u001b[39mreplace(\u001b[38;5;124m\"\u001b[39m\u001b[38;5;124mA\u001b[39m\u001b[38;5;124m\"\u001b[39m, \u001b[38;5;124m\"\u001b[39m\u001b[38;5;124mt\u001b[39m\u001b[38;5;124m\"\u001b[39m)\n\u001b[0;32m      2\u001b[0m seq1_temp \u001b[38;5;241m=\u001b[39m seq1_temp\u001b[38;5;241m.\u001b[39mreplace(\u001b[38;5;124m\"\u001b[39m\u001b[38;5;124mT\u001b[39m\u001b[38;5;124m\"\u001b[39m, \u001b[38;5;124m\"\u001b[39m\u001b[38;5;124ma\u001b[39m\u001b[38;5;124m\"\u001b[39m)\n\u001b[0;32m      3\u001b[0m seq1_temp \u001b[38;5;241m=\u001b[39m seq1_temp\u001b[38;5;241m.\u001b[39mreplace(\u001b[38;5;124m\"\u001b[39m\u001b[38;5;124mC\u001b[39m\u001b[38;5;124m\"\u001b[39m, \u001b[38;5;124m\"\u001b[39m\u001b[38;5;124mg\u001b[39m\u001b[38;5;124m\"\u001b[39m)\n",
      "\u001b[1;31mNameError\u001b[0m: name 'seq1' is not defined"
     ]
    }
   ],
   "source": [
    "seq1_temp = seq1.replace(\"A\", \"t\")\n",
    "seq1_temp = seq1_temp.replace(\"T\", \"a\")\n",
    "seq1_temp = seq1_temp.replace(\"C\", \"g\")\n",
    "seq1_temp = seq1_temp.replace(\"G\", \"c\")\n",
    "cseq1 = seq1_temp.upper()\n",
    "rcseq1 = cseq1[::-1]\n",
    "\n",
    "print(seq1)\n",
    "print(cseq1)\n",
    "print(rcseq1)"
   ]
  },
  {
   "cell_type": "code",
   "execution_count": 59,
   "id": "ceb00782",
   "metadata": {},
   "outputs": [],
   "source": [
    "seq2 = \"AAGGACCNGACATCCATCGCTGATGTCAATCCCCCGTGGATCGTAAGTCCGGGAGTAGGAGGAGGAAGGGTCGTCCCACAGTGCGAAGAGGCTTCTGACCTACTGACGGTACCTCCTCAGTGTCAGCCTATAGTCGGAGCTCGAGGGAGACTCGGTCCTCTGTAAAAGTCCGAATACCTTTGATGAAGGAGGTCTTCTATAGGACGGTAG\""
   ]
  },
  {
   "cell_type": "code",
   "execution_count": 68,
   "id": "45c214e5",
   "metadata": {},
   "outputs": [
    {
     "ename": "AttributeError",
     "evalue": "'str' object has no attribute 'reverse'",
     "output_type": "error",
     "traceback": [
      "\u001b[1;31m---------------------------------------------------------------------------\u001b[0m",
      "\u001b[1;31mAttributeError\u001b[0m                            Traceback (most recent call last)",
      "\u001b[1;32m~\\AppData\\Local\\Temp/ipykernel_17880/4214703447.py\u001b[0m in \u001b[0;36m<module>\u001b[1;34m\u001b[0m\n\u001b[1;32m----> 1\u001b[1;33m \u001b[0mseq1\u001b[0m\u001b[1;33m.\u001b[0m\u001b[0mreverse\u001b[0m\u001b[1;33m(\u001b[0m\u001b[1;33m)\u001b[0m\u001b[1;33m\u001b[0m\u001b[1;33m\u001b[0m\u001b[0m\n\u001b[0m",
      "\u001b[1;31mAttributeError\u001b[0m: 'str' object has no attribute 'reverse'"
     ]
    }
   ],
   "source": []
  },
  {
   "cell_type": "code",
   "execution_count": null,
   "id": "47a9f011",
   "metadata": {},
   "outputs": [],
   "source": []
  }
 ],
 "metadata": {
  "kernelspec": {
   "display_name": "Python 3 (ipykernel)",
   "language": "python",
   "name": "python3"
  },
  "language_info": {
   "codemirror_mode": {
    "name": "ipython",
    "version": 3
   },
   "file_extension": ".py",
   "mimetype": "text/x-python",
   "name": "python",
   "nbconvert_exporter": "python",
   "pygments_lexer": "ipython3",
   "version": "3.9.12"
  }
 },
 "nbformat": 4,
 "nbformat_minor": 5
}
